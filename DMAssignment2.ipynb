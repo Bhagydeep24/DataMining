{
 "cells": [
  {
   "cell_type": "markdown",
   "metadata": {},
   "source": [
    "# Assignment 2"
   ]
  },
  {
   "cell_type": "markdown",
   "metadata": {},
   "source": [
    "### <strong> Creating KNN classifier from scratch without using any librabries and use Euclidean, Normal Euclidean, Cosine distance to find the optimal hyperparameter to find the distance between two vector points. </strong>"
   ]
  },
  {
   "cell_type": "markdown",
   "metadata": {},
   "source": [
    "<strong>A. Divide the dataset as development and test. Because kNN does not require training you don’t have a train dataset. Make sure randomly divide the dataset.</strong>"
   ]
  },
  {
   "cell_type": "markdown",
   "metadata": {},
   "source": [
    "Since we are not going to use libraries like numpy, we are iterating through 'for' loop to create a 2d array stricture for the dataset imported from website:  https://archive.ics.uci.edu/ml/datasets/Iris "
   ]
  },
  {
   "cell_type": "code",
   "execution_count": 1,
   "metadata": {},
   "outputs": [
    {
     "name": "stdout",
     "output_type": "stream",
     "text": [
      "Output of Read function is:\n",
      " \n",
      "[['5.1', '3.5', '1.4', '0.2', 'Iris-setosa'], ['4.9', '3.0', '1.4', '0.2', 'Iris-setosa'], ['4.7', '3.2', '1.3', '0.2', 'Iris-setosa'], ['4.6', '3.1', '1.5', '0.2', 'Iris-setosa'], ['5.0', '3.6', '1.4', '0.2', 'Iris-setosa'], ['5.4', '3.9', '1.7', '0.4', 'Iris-setosa'], ['4.6', '3.4', '1.4', '0.3', 'Iris-setosa'], ['5.0', '3.4', '1.5', '0.2', 'Iris-setosa'], ['4.4', '2.9', '1.4', '0.2', 'Iris-setosa'], ['4.9', '3.1', '1.5', '0.1', 'Iris-setosa'], ['5.4', '3.7', '1.5', '0.2', 'Iris-setosa'], ['4.8', '3.4', '1.6', '0.2', 'Iris-setosa'], ['4.8', '3.0', '1.4', '0.1', 'Iris-setosa'], ['4.3', '3.0', '1.1', '0.1', 'Iris-setosa'], ['5.8', '4.0', '1.2', '0.2', 'Iris-setosa'], ['5.7', '4.4', '1.5', '0.4', 'Iris-setosa'], ['5.4', '3.9', '1.3', '0.4', 'Iris-setosa'], ['5.1', '3.5', '1.4', '0.3', 'Iris-setosa'], ['5.7', '3.8', '1.7', '0.3', 'Iris-setosa'], ['5.1', '3.8', '1.5', '0.3', 'Iris-setosa'], ['5.4', '3.4', '1.7', '0.2', 'Iris-setosa'], ['5.1', '3.7', '1.5', '0.4', 'Iris-setosa'], ['4.6', '3.6', '1.0', '0.2', 'Iris-setosa'], ['5.1', '3.3', '1.7', '0.5', 'Iris-setosa'], ['4.8', '3.4', '1.9', '0.2', 'Iris-setosa'], ['5.0', '3.0', '1.6', '0.2', 'Iris-setosa'], ['5.0', '3.4', '1.6', '0.4', 'Iris-setosa'], ['5.2', '3.5', '1.5', '0.2', 'Iris-setosa'], ['5.2', '3.4', '1.4', '0.2', 'Iris-setosa'], ['4.7', '3.2', '1.6', '0.2', 'Iris-setosa'], ['4.8', '3.1', '1.6', '0.2', 'Iris-setosa'], ['5.4', '3.4', '1.5', '0.4', 'Iris-setosa'], ['5.2', '4.1', '1.5', '0.1', 'Iris-setosa'], ['5.5', '4.2', '1.4', '0.2', 'Iris-setosa'], ['4.9', '3.1', '1.5', '0.1', 'Iris-setosa'], ['5.0', '3.2', '1.2', '0.2', 'Iris-setosa'], ['5.5', '3.5', '1.3', '0.2', 'Iris-setosa'], ['4.9', '3.1', '1.5', '0.1', 'Iris-setosa'], ['4.4', '3.0', '1.3', '0.2', 'Iris-setosa'], ['5.1', '3.4', '1.5', '0.2', 'Iris-setosa'], ['5.0', '3.5', '1.3', '0.3', 'Iris-setosa'], ['4.5', '2.3', '1.3', '0.3', 'Iris-setosa'], ['4.4', '3.2', '1.3', '0.2', 'Iris-setosa'], ['5.0', '3.5', '1.6', '0.6', 'Iris-setosa'], ['5.1', '3.8', '1.9', '0.4', 'Iris-setosa'], ['4.8', '3.0', '1.4', '0.3', 'Iris-setosa'], ['5.1', '3.8', '1.6', '0.2', 'Iris-setosa'], ['4.6', '3.2', '1.4', '0.2', 'Iris-setosa'], ['5.3', '3.7', '1.5', '0.2', 'Iris-setosa'], ['5.0', '3.3', '1.4', '0.2', 'Iris-setosa'], ['7.0', '3.2', '4.7', '1.4', 'Iris-versicolor'], ['6.4', '3.2', '4.5', '1.5', 'Iris-versicolor'], ['6.9', '3.1', '4.9', '1.5', 'Iris-versicolor'], ['5.5', '2.3', '4.0', '1.3', 'Iris-versicolor'], ['6.5', '2.8', '4.6', '1.5', 'Iris-versicolor'], ['5.7', '2.8', '4.5', '1.3', 'Iris-versicolor'], ['6.3', '3.3', '4.7', '1.6', 'Iris-versicolor'], ['4.9', '2.4', '3.3', '1.0', 'Iris-versicolor'], ['6.6', '2.9', '4.6', '1.3', 'Iris-versicolor'], ['5.2', '2.7', '3.9', '1.4', 'Iris-versicolor'], ['5.0', '2.0', '3.5', '1.0', 'Iris-versicolor'], ['5.9', '3.0', '4.2', '1.5', 'Iris-versicolor'], ['6.0', '2.2', '4.0', '1.0', 'Iris-versicolor'], ['6.1', '2.9', '4.7', '1.4', 'Iris-versicolor'], ['5.6', '2.9', '3.6', '1.3', 'Iris-versicolor'], ['6.7', '3.1', '4.4', '1.4', 'Iris-versicolor'], ['5.6', '3.0', '4.5', '1.5', 'Iris-versicolor'], ['5.8', '2.7', '4.1', '1.0', 'Iris-versicolor'], ['6.2', '2.2', '4.5', '1.5', 'Iris-versicolor'], ['5.6', '2.5', '3.9', '1.1', 'Iris-versicolor'], ['5.9', '3.2', '4.8', '1.8', 'Iris-versicolor'], ['6.1', '2.8', '4.0', '1.3', 'Iris-versicolor'], ['6.3', '2.5', '4.9', '1.5', 'Iris-versicolor'], ['6.1', '2.8', '4.7', '1.2', 'Iris-versicolor'], ['6.4', '2.9', '4.3', '1.3', 'Iris-versicolor'], ['6.6', '3.0', '4.4', '1.4', 'Iris-versicolor'], ['6.8', '2.8', '4.8', '1.4', 'Iris-versicolor'], ['6.7', '3.0', '5.0', '1.7', 'Iris-versicolor'], ['6.0', '2.9', '4.5', '1.5', 'Iris-versicolor'], ['5.7', '2.6', '3.5', '1.0', 'Iris-versicolor'], ['5.5', '2.4', '3.8', '1.1', 'Iris-versicolor'], ['5.5', '2.4', '3.7', '1.0', 'Iris-versicolor'], ['5.8', '2.7', '3.9', '1.2', 'Iris-versicolor'], ['6.0', '2.7', '5.1', '1.6', 'Iris-versicolor'], ['5.4', '3.0', '4.5', '1.5', 'Iris-versicolor'], ['6.0', '3.4', '4.5', '1.6', 'Iris-versicolor'], ['6.7', '3.1', '4.7', '1.5', 'Iris-versicolor'], ['6.3', '2.3', '4.4', '1.3', 'Iris-versicolor'], ['5.6', '3.0', '4.1', '1.3', 'Iris-versicolor'], ['5.5', '2.5', '4.0', '1.3', 'Iris-versicolor'], ['5.5', '2.6', '4.4', '1.2', 'Iris-versicolor'], ['6.1', '3.0', '4.6', '1.4', 'Iris-versicolor'], ['5.8', '2.6', '4.0', '1.2', 'Iris-versicolor'], ['5.0', '2.3', '3.3', '1.0', 'Iris-versicolor'], ['5.6', '2.7', '4.2', '1.3', 'Iris-versicolor'], ['5.7', '3.0', '4.2', '1.2', 'Iris-versicolor'], ['5.7', '2.9', '4.2', '1.3', 'Iris-versicolor'], ['6.2', '2.9', '4.3', '1.3', 'Iris-versicolor'], ['5.1', '2.5', '3.0', '1.1', 'Iris-versicolor'], ['5.7', '2.8', '4.1', '1.3', 'Iris-versicolor'], ['6.3', '3.3', '6.0', '2.5', 'Iris-virginica'], ['5.8', '2.7', '5.1', '1.9', 'Iris-virginica'], ['7.1', '3.0', '5.9', '2.1', 'Iris-virginica'], ['6.3', '2.9', '5.6', '1.8', 'Iris-virginica'], ['6.5', '3.0', '5.8', '2.2', 'Iris-virginica'], ['7.6', '3.0', '6.6', '2.1', 'Iris-virginica'], ['4.9', '2.5', '4.5', '1.7', 'Iris-virginica'], ['7.3', '2.9', '6.3', '1.8', 'Iris-virginica'], ['6.7', '2.5', '5.8', '1.8', 'Iris-virginica'], ['7.2', '3.6', '6.1', '2.5', 'Iris-virginica'], ['6.5', '3.2', '5.1', '2.0', 'Iris-virginica'], ['6.4', '2.7', '5.3', '1.9', 'Iris-virginica'], ['6.8', '3.0', '5.5', '2.1', 'Iris-virginica'], ['5.7', '2.5', '5.0', '2.0', 'Iris-virginica'], ['5.8', '2.8', '5.1', '2.4', 'Iris-virginica'], ['6.4', '3.2', '5.3', '2.3', 'Iris-virginica'], ['6.5', '3.0', '5.5', '1.8', 'Iris-virginica'], ['7.7', '3.8', '6.7', '2.2', 'Iris-virginica'], ['7.7', '2.6', '6.9', '2.3', 'Iris-virginica'], ['6.0', '2.2', '5.0', '1.5', 'Iris-virginica'], ['6.9', '3.2', '5.7', '2.3', 'Iris-virginica'], ['5.6', '2.8', '4.9', '2.0', 'Iris-virginica'], ['7.7', '2.8', '6.7', '2.0', 'Iris-virginica'], ['6.3', '2.7', '4.9', '1.8', 'Iris-virginica'], ['6.7', '3.3', '5.7', '2.1', 'Iris-virginica'], ['7.2', '3.2', '6.0', '1.8', 'Iris-virginica'], ['6.2', '2.8', '4.8', '1.8', 'Iris-virginica'], ['6.1', '3.0', '4.9', '1.8', 'Iris-virginica'], ['6.4', '2.8', '5.6', '2.1', 'Iris-virginica'], ['7.2', '3.0', '5.8', '1.6', 'Iris-virginica'], ['7.4', '2.8', '6.1', '1.9', 'Iris-virginica'], ['7.9', '3.8', '6.4', '2.0', 'Iris-virginica'], ['6.4', '2.8', '5.6', '2.2', 'Iris-virginica'], ['6.3', '2.8', '5.1', '1.5', 'Iris-virginica'], ['6.1', '2.6', '5.6', '1.4', 'Iris-virginica'], ['7.7', '3.0', '6.1', '2.3', 'Iris-virginica'], ['6.3', '3.4', '5.6', '2.4', 'Iris-virginica'], ['6.4', '3.1', '5.5', '1.8', 'Iris-virginica'], ['6.0', '3.0', '4.8', '1.8', 'Iris-virginica'], ['6.9', '3.1', '5.4', '2.1', 'Iris-virginica'], ['6.7', '3.1', '5.6', '2.4', 'Iris-virginica'], ['6.9', '3.1', '5.1', '2.3', 'Iris-virginica'], ['5.8', '2.7', '5.1', '1.9', 'Iris-virginica'], ['6.8', '3.2', '5.9', '2.3', 'Iris-virginica'], ['6.7', '3.3', '5.7', '2.5', 'Iris-virginica'], ['6.7', '3.0', '5.2', '2.3', 'Iris-virginica'], ['6.3', '2.5', '5.0', '1.9', 'Iris-virginica'], ['6.5', '3.0', '5.2', '2.0', 'Iris-virginica'], ['6.2', '3.4', '5.4', '2.3', 'Iris-virginica'], ['5.9', '3.0', '5.1', '1.8', 'Iris-virginica']]\n"
     ]
    }
   ],
   "source": [
    "file = open(\"iris.data\", \"r+\")\n",
    "dataset=[]\n",
    "total_data=0\n",
    "#dataset=list()\n",
    "print(\"Output of Read function is:\\n \")\n",
    "for row in file:\n",
    "    total_data=total_data+1\n",
    "    if(row!='\\n'):#excluding empty rows\n",
    "        new_row=row.strip()#removing tailing empty space\n",
    "        dataset.append(new_row.split(','))#using split created each row into array separated by a comma\n",
    "print(dataset)"
   ]
  },
  {
   "cell_type": "markdown",
   "metadata": {},
   "source": [
    "Defining a function to fetch column from 2d array using column number:"
   ]
  },
  {
   "cell_type": "code",
   "execution_count": 2,
   "metadata": {},
   "outputs": [
    {
     "name": "stdout",
     "output_type": "stream",
     "text": [
      "Display result column: \n",
      "\n",
      "['Iris-setosa', 'Iris-setosa', 'Iris-setosa', 'Iris-setosa', 'Iris-setosa', 'Iris-setosa', 'Iris-setosa', 'Iris-setosa', 'Iris-setosa', 'Iris-setosa', 'Iris-setosa', 'Iris-setosa', 'Iris-setosa', 'Iris-setosa', 'Iris-setosa', 'Iris-setosa', 'Iris-setosa', 'Iris-setosa', 'Iris-setosa', 'Iris-setosa', 'Iris-setosa', 'Iris-setosa', 'Iris-setosa', 'Iris-setosa', 'Iris-setosa', 'Iris-setosa', 'Iris-setosa', 'Iris-setosa', 'Iris-setosa', 'Iris-setosa', 'Iris-setosa', 'Iris-setosa', 'Iris-setosa', 'Iris-setosa', 'Iris-setosa', 'Iris-setosa', 'Iris-setosa', 'Iris-setosa', 'Iris-setosa', 'Iris-setosa', 'Iris-setosa', 'Iris-setosa', 'Iris-setosa', 'Iris-setosa', 'Iris-setosa', 'Iris-setosa', 'Iris-setosa', 'Iris-setosa', 'Iris-setosa', 'Iris-setosa', 'Iris-versicolor', 'Iris-versicolor', 'Iris-versicolor', 'Iris-versicolor', 'Iris-versicolor', 'Iris-versicolor', 'Iris-versicolor', 'Iris-versicolor', 'Iris-versicolor', 'Iris-versicolor', 'Iris-versicolor', 'Iris-versicolor', 'Iris-versicolor', 'Iris-versicolor', 'Iris-versicolor', 'Iris-versicolor', 'Iris-versicolor', 'Iris-versicolor', 'Iris-versicolor', 'Iris-versicolor', 'Iris-versicolor', 'Iris-versicolor', 'Iris-versicolor', 'Iris-versicolor', 'Iris-versicolor', 'Iris-versicolor', 'Iris-versicolor', 'Iris-versicolor', 'Iris-versicolor', 'Iris-versicolor', 'Iris-versicolor', 'Iris-versicolor', 'Iris-versicolor', 'Iris-versicolor', 'Iris-versicolor', 'Iris-versicolor', 'Iris-versicolor', 'Iris-versicolor', 'Iris-versicolor', 'Iris-versicolor', 'Iris-versicolor', 'Iris-versicolor', 'Iris-versicolor', 'Iris-versicolor', 'Iris-versicolor', 'Iris-versicolor', 'Iris-versicolor', 'Iris-versicolor', 'Iris-versicolor', 'Iris-versicolor', 'Iris-virginica', 'Iris-virginica', 'Iris-virginica', 'Iris-virginica', 'Iris-virginica', 'Iris-virginica', 'Iris-virginica', 'Iris-virginica', 'Iris-virginica', 'Iris-virginica', 'Iris-virginica', 'Iris-virginica', 'Iris-virginica', 'Iris-virginica', 'Iris-virginica', 'Iris-virginica', 'Iris-virginica', 'Iris-virginica', 'Iris-virginica', 'Iris-virginica', 'Iris-virginica', 'Iris-virginica', 'Iris-virginica', 'Iris-virginica', 'Iris-virginica', 'Iris-virginica', 'Iris-virginica', 'Iris-virginica', 'Iris-virginica', 'Iris-virginica', 'Iris-virginica', 'Iris-virginica', 'Iris-virginica', 'Iris-virginica', 'Iris-virginica', 'Iris-virginica', 'Iris-virginica', 'Iris-virginica', 'Iris-virginica', 'Iris-virginica', 'Iris-virginica', 'Iris-virginica', 'Iris-virginica', 'Iris-virginica', 'Iris-virginica', 'Iris-virginica', 'Iris-virginica', 'Iris-virginica', 'Iris-virginica', 'Iris-virginica']\n"
     ]
    }
   ],
   "source": [
    "#Function to fetch column data\n",
    "def get_coulmn_data(box, i):\n",
    "    return [row[i] for row in box]\n",
    "print(\"Display result column: \\n\")\n",
    "print(get_coulmn_data(dataset,4))"
   ]
  },
  {
   "cell_type": "code",
   "execution_count": 3,
   "metadata": {},
   "outputs": [
    {
     "name": "stdout",
     "output_type": "stream",
     "text": [
      "Flowers dictionary created:\n",
      "\n",
      "{'Iris-setosa': 1, 'Iris-versicolor': 2, 'Iris-virginica': 3}\n"
     ]
    }
   ],
   "source": [
    "#get unique flowers list:\n",
    "flowers={}\n",
    "count=1\n",
    "for flower in get_coulmn_data(dataset,4):\n",
    "    if flower not in flowers:\n",
    "        flowers[flower]=count\n",
    "        count=count+1\n",
    "print(\"Flowers dictionary created:\\n\")\n",
    "print(flowers)        "
   ]
  },
  {
   "cell_type": "code",
   "execution_count": 4,
   "metadata": {},
   "outputs": [
    {
     "name": "stdout",
     "output_type": "stream",
     "text": [
      "Dataset after random shuffling:\n",
      "\n",
      "[['6.0', '2.2', '5.0', '1.5', 'Iris-virginica'], ['6.2', '2.2', '4.5', '1.5', 'Iris-versicolor'], ['6.5', '3.0', '5.8', '2.2', 'Iris-virginica'], ['7.9', '3.8', '6.4', '2.0', 'Iris-virginica'], ['4.9', '3.0', '1.4', '0.2', 'Iris-setosa'], ['5.4', '3.9', '1.3', '0.4', 'Iris-setosa'], ['6.5', '2.8', '4.6', '1.5', 'Iris-versicolor'], ['4.8', '3.1', '1.6', '0.2', 'Iris-setosa'], ['5.1', '3.8', '1.5', '0.3', 'Iris-setosa'], ['6.4', '2.9', '4.3', '1.3', 'Iris-versicolor'], ['6.5', '3.0', '5.2', '2.0', 'Iris-virginica'], ['5.1', '2.5', '3.0', '1.1', 'Iris-versicolor'], ['5.8', '2.7', '3.9', '1.2', 'Iris-versicolor'], ['5.8', '2.6', '4.0', '1.2', 'Iris-versicolor'], ['7.2', '3.0', '5.8', '1.6', 'Iris-virginica'], ['5.0', '3.0', '1.6', '0.2', 'Iris-setosa'], ['4.9', '2.4', '3.3', '1.0', 'Iris-versicolor'], ['5.5', '2.5', '4.0', '1.3', 'Iris-versicolor'], ['5.4', '3.4', '1.5', '0.4', 'Iris-setosa'], ['5.5', '2.4', '3.7', '1.0', 'Iris-versicolor'], ['6.6', '3.0', '4.4', '1.4', 'Iris-versicolor'], ['4.9', '3.1', '1.5', '0.1', 'Iris-setosa'], ['5.0', '3.5', '1.3', '0.3', 'Iris-setosa'], ['6.3', '2.3', '4.4', '1.3', 'Iris-versicolor'], ['5.0', '3.6', '1.4', '0.2', 'Iris-setosa'], ['5.5', '4.2', '1.4', '0.2', 'Iris-setosa'], ['5.6', '3.0', '4.5', '1.5', 'Iris-versicolor'], ['5.7', '4.4', '1.5', '0.4', 'Iris-setosa'], ['6.3', '2.5', '5.0', '1.9', 'Iris-virginica'], ['6.9', '3.1', '4.9', '1.5', 'Iris-versicolor'], ['5.0', '3.2', '1.2', '0.2', 'Iris-setosa'], ['4.8', '3.0', '1.4', '0.3', 'Iris-setosa'], ['6.3', '2.7', '4.9', '1.8', 'Iris-virginica'], ['4.9', '2.5', '4.5', '1.7', 'Iris-virginica'], ['6.0', '3.4', '4.5', '1.6', 'Iris-versicolor'], ['5.4', '3.7', '1.5', '0.2', 'Iris-setosa'], ['6.4', '3.1', '5.5', '1.8', 'Iris-virginica'], ['5.7', '2.8', '4.1', '1.3', 'Iris-versicolor'], ['6.0', '2.9', '4.5', '1.5', 'Iris-versicolor'], ['4.8', '3.4', '1.9', '0.2', 'Iris-setosa'], ['5.9', '3.0', '4.2', '1.5', 'Iris-versicolor'], ['4.9', '3.1', '1.5', '0.1', 'Iris-setosa'], ['6.0', '2.7', '5.1', '1.6', 'Iris-versicolor'], ['6.5', '3.2', '5.1', '2.0', 'Iris-virginica'], ['6.0', '3.0', '4.8', '1.8', 'Iris-virginica'], ['7.7', '2.6', '6.9', '2.3', 'Iris-virginica'], ['6.3', '2.9', '5.6', '1.8', 'Iris-virginica'], ['6.7', '3.0', '5.2', '2.3', 'Iris-virginica'], ['5.6', '2.8', '4.9', '2.0', 'Iris-virginica'], ['5.6', '2.5', '3.9', '1.1', 'Iris-versicolor'], ['5.8', '4.0', '1.2', '0.2', 'Iris-setosa'], ['5.8', '2.8', '5.1', '2.4', 'Iris-virginica'], ['6.3', '2.8', '5.1', '1.5', 'Iris-virginica'], ['6.4', '2.8', '5.6', '2.2', 'Iris-virginica'], ['5.2', '3.5', '1.5', '0.2', 'Iris-setosa'], ['7.7', '3.0', '6.1', '2.3', 'Iris-virginica'], ['6.6', '2.9', '4.6', '1.3', 'Iris-versicolor'], ['7.3', '2.9', '6.3', '1.8', 'Iris-virginica'], ['5.6', '3.0', '4.1', '1.3', 'Iris-versicolor'], ['6.2', '3.4', '5.4', '2.3', 'Iris-virginica'], ['7.1', '3.0', '5.9', '2.1', 'Iris-virginica'], ['5.5', '2.4', '3.8', '1.1', 'Iris-versicolor'], ['5.4', '3.0', '4.5', '1.5', 'Iris-versicolor'], ['6.7', '3.1', '5.6', '2.4', 'Iris-virginica'], ['6.3', '3.3', '4.7', '1.6', 'Iris-versicolor'], ['5.7', '2.9', '4.2', '1.3', 'Iris-versicolor'], ['5.1', '3.5', '1.4', '0.2', 'Iris-setosa'], ['5.0', '2.0', '3.5', '1.0', 'Iris-versicolor'], ['6.3', '2.5', '4.9', '1.5', 'Iris-versicolor'], ['6.8', '3.2', '5.9', '2.3', 'Iris-virginica'], ['6.3', '3.3', '6.0', '2.5', 'Iris-virginica'], ['6.9', '3.1', '5.4', '2.1', 'Iris-virginica'], ['4.8', '3.0', '1.4', '0.1', 'Iris-setosa'], ['5.1', '3.8', '1.9', '0.4', 'Iris-setosa'], ['6.3', '3.4', '5.6', '2.4', 'Iris-virginica'], ['4.9', '3.1', '1.5', '0.1', 'Iris-setosa'], ['5.8', '2.7', '5.1', '1.9', 'Iris-virginica'], ['5.7', '3.0', '4.2', '1.2', 'Iris-versicolor'], ['5.4', '3.4', '1.7', '0.2', 'Iris-setosa'], ['6.9', '3.2', '5.7', '2.3', 'Iris-virginica'], ['4.6', '3.1', '1.5', '0.2', 'Iris-setosa'], ['6.2', '2.9', '4.3', '1.3', 'Iris-versicolor'], ['6.4', '2.7', '5.3', '1.9', 'Iris-virginica'], ['4.8', '3.4', '1.6', '0.2', 'Iris-setosa'], ['7.2', '3.6', '6.1', '2.5', 'Iris-virginica'], ['4.6', '3.6', '1.0', '0.2', 'Iris-setosa'], ['7.7', '2.8', '6.7', '2.0', 'Iris-virginica'], ['4.4', '3.0', '1.3', '0.2', 'Iris-setosa'], ['6.8', '3.0', '5.5', '2.1', 'Iris-virginica'], ['6.1', '2.8', '4.0', '1.3', 'Iris-versicolor'], ['4.3', '3.0', '1.1', '0.1', 'Iris-setosa'], ['5.5', '2.6', '4.4', '1.2', 'Iris-versicolor'], ['6.7', '3.0', '5.0', '1.7', 'Iris-versicolor'], ['5.1', '3.8', '1.6', '0.2', 'Iris-setosa'], ['5.2', '4.1', '1.5', '0.1', 'Iris-setosa'], ['6.5', '3.0', '5.5', '1.8', 'Iris-virginica'], ['6.7', '2.5', '5.8', '1.8', 'Iris-virginica'], ['5.0', '2.3', '3.3', '1.0', 'Iris-versicolor'], ['5.7', '3.8', '1.7', '0.3', 'Iris-setosa'], ['5.1', '3.7', '1.5', '0.4', 'Iris-setosa'], ['4.7', '3.2', '1.3', '0.2', 'Iris-setosa'], ['6.7', '3.1', '4.4', '1.4', 'Iris-versicolor'], ['5.1', '3.4', '1.5', '0.2', 'Iris-setosa'], ['7.0', '3.2', '4.7', '1.4', 'Iris-versicolor'], ['7.7', '3.8', '6.7', '2.2', 'Iris-virginica'], ['6.4', '2.8', '5.6', '2.1', 'Iris-virginica'], ['5.5', '2.3', '4.0', '1.3', 'Iris-versicolor'], ['6.7', '3.1', '4.7', '1.5', 'Iris-versicolor'], ['5.8', '2.7', '5.1', '1.9', 'Iris-virginica'], ['5.7', '2.8', '4.5', '1.3', 'Iris-versicolor'], ['5.1', '3.5', '1.4', '0.3', 'Iris-setosa'], ['5.7', '2.5', '5.0', '2.0', 'Iris-virginica'], ['5.9', '3.2', '4.8', '1.8', 'Iris-versicolor'], ['4.6', '3.4', '1.4', '0.3', 'Iris-setosa'], ['5.5', '3.5', '1.3', '0.2', 'Iris-setosa'], ['6.7', '3.3', '5.7', '2.1', 'Iris-virginica'], ['5.0', '3.4', '1.5', '0.2', 'Iris-setosa'], ['4.4', '3.2', '1.3', '0.2', 'Iris-setosa'], ['4.6', '3.2', '1.4', '0.2', 'Iris-setosa'], ['6.9', '3.1', '5.1', '2.3', 'Iris-virginica'], ['6.1', '3.0', '4.6', '1.4', 'Iris-versicolor'], ['7.2', '3.2', '6.0', '1.8', 'Iris-virginica'], ['5.3', '3.7', '1.5', '0.2', 'Iris-setosa'], ['5.1', '3.3', '1.7', '0.5', 'Iris-setosa'], ['6.4', '3.2', '4.5', '1.5', 'Iris-versicolor'], ['5.4', '3.9', '1.7', '0.4', 'Iris-setosa'], ['5.6', '2.9', '3.6', '1.3', 'Iris-versicolor'], ['6.1', '2.9', '4.7', '1.4', 'Iris-versicolor'], ['4.4', '2.9', '1.4', '0.2', 'Iris-setosa'], ['5.9', '3.0', '5.1', '1.8', 'Iris-virginica'], ['6.2', '2.8', '4.8', '1.8', 'Iris-virginica'], ['5.8', '2.7', '4.1', '1.0', 'Iris-versicolor'], ['7.6', '3.0', '6.6', '2.1', 'Iris-virginica'], ['5.7', '2.6', '3.5', '1.0', 'Iris-versicolor'], ['6.7', '3.3', '5.7', '2.5', 'Iris-virginica'], ['5.0', '3.5', '1.6', '0.6', 'Iris-setosa'], ['6.8', '2.8', '4.8', '1.4', 'Iris-versicolor'], ['6.0', '2.2', '4.0', '1.0', 'Iris-versicolor'], ['5.2', '2.7', '3.9', '1.4', 'Iris-versicolor'], ['6.1', '2.8', '4.7', '1.2', 'Iris-versicolor'], ['5.0', '3.4', '1.6', '0.4', 'Iris-setosa'], ['4.5', '2.3', '1.3', '0.3', 'Iris-setosa'], ['6.4', '3.2', '5.3', '2.3', 'Iris-virginica'], ['6.1', '2.6', '5.6', '1.4', 'Iris-virginica'], ['4.7', '3.2', '1.6', '0.2', 'Iris-setosa'], ['5.0', '3.3', '1.4', '0.2', 'Iris-setosa'], ['6.1', '3.0', '4.9', '1.8', 'Iris-virginica'], ['5.6', '2.7', '4.2', '1.3', 'Iris-versicolor'], ['7.4', '2.8', '6.1', '1.9', 'Iris-virginica'], ['5.2', '3.4', '1.4', '0.2', 'Iris-setosa']]\n"
     ]
    }
   ],
   "source": [
    "#Romdomly shuffle the rows \n",
    "import random  \n",
    "random.shuffle(dataset)\n",
    "print(\"Dataset after random shuffling:\\n\")\n",
    "print(dataset)"
   ]
  },
  {
   "cell_type": "code",
   "execution_count": 5,
   "metadata": {},
   "outputs": [
    {
     "name": "stdout",
     "output_type": "stream",
     "text": [
      "Changing flower names to numeric representation:\n",
      "\n",
      "[['6.0', '2.2', '5.0', '1.5', 3], ['6.2', '2.2', '4.5', '1.5', 2], ['6.5', '3.0', '5.8', '2.2', 3], ['7.9', '3.8', '6.4', '2.0', 3], ['4.9', '3.0', '1.4', '0.2', 1], ['5.4', '3.9', '1.3', '0.4', 1], ['6.5', '2.8', '4.6', '1.5', 2], ['4.8', '3.1', '1.6', '0.2', 1], ['5.1', '3.8', '1.5', '0.3', 1], ['6.4', '2.9', '4.3', '1.3', 2], ['6.5', '3.0', '5.2', '2.0', 3], ['5.1', '2.5', '3.0', '1.1', 2], ['5.8', '2.7', '3.9', '1.2', 2], ['5.8', '2.6', '4.0', '1.2', 2], ['7.2', '3.0', '5.8', '1.6', 3], ['5.0', '3.0', '1.6', '0.2', 1], ['4.9', '2.4', '3.3', '1.0', 2], ['5.5', '2.5', '4.0', '1.3', 2], ['5.4', '3.4', '1.5', '0.4', 1], ['5.5', '2.4', '3.7', '1.0', 2], ['6.6', '3.0', '4.4', '1.4', 2], ['4.9', '3.1', '1.5', '0.1', 1], ['5.0', '3.5', '1.3', '0.3', 1], ['6.3', '2.3', '4.4', '1.3', 2], ['5.0', '3.6', '1.4', '0.2', 1], ['5.5', '4.2', '1.4', '0.2', 1], ['5.6', '3.0', '4.5', '1.5', 2], ['5.7', '4.4', '1.5', '0.4', 1], ['6.3', '2.5', '5.0', '1.9', 3], ['6.9', '3.1', '4.9', '1.5', 2], ['5.0', '3.2', '1.2', '0.2', 1], ['4.8', '3.0', '1.4', '0.3', 1], ['6.3', '2.7', '4.9', '1.8', 3], ['4.9', '2.5', '4.5', '1.7', 3], ['6.0', '3.4', '4.5', '1.6', 2], ['5.4', '3.7', '1.5', '0.2', 1], ['6.4', '3.1', '5.5', '1.8', 3], ['5.7', '2.8', '4.1', '1.3', 2], ['6.0', '2.9', '4.5', '1.5', 2], ['4.8', '3.4', '1.9', '0.2', 1], ['5.9', '3.0', '4.2', '1.5', 2], ['4.9', '3.1', '1.5', '0.1', 1], ['6.0', '2.7', '5.1', '1.6', 2], ['6.5', '3.2', '5.1', '2.0', 3], ['6.0', '3.0', '4.8', '1.8', 3], ['7.7', '2.6', '6.9', '2.3', 3], ['6.3', '2.9', '5.6', '1.8', 3], ['6.7', '3.0', '5.2', '2.3', 3], ['5.6', '2.8', '4.9', '2.0', 3], ['5.6', '2.5', '3.9', '1.1', 2], ['5.8', '4.0', '1.2', '0.2', 1], ['5.8', '2.8', '5.1', '2.4', 3], ['6.3', '2.8', '5.1', '1.5', 3], ['6.4', '2.8', '5.6', '2.2', 3], ['5.2', '3.5', '1.5', '0.2', 1], ['7.7', '3.0', '6.1', '2.3', 3], ['6.6', '2.9', '4.6', '1.3', 2], ['7.3', '2.9', '6.3', '1.8', 3], ['5.6', '3.0', '4.1', '1.3', 2], ['6.2', '3.4', '5.4', '2.3', 3], ['7.1', '3.0', '5.9', '2.1', 3], ['5.5', '2.4', '3.8', '1.1', 2], ['5.4', '3.0', '4.5', '1.5', 2], ['6.7', '3.1', '5.6', '2.4', 3], ['6.3', '3.3', '4.7', '1.6', 2], ['5.7', '2.9', '4.2', '1.3', 2], ['5.1', '3.5', '1.4', '0.2', 1], ['5.0', '2.0', '3.5', '1.0', 2], ['6.3', '2.5', '4.9', '1.5', 2], ['6.8', '3.2', '5.9', '2.3', 3], ['6.3', '3.3', '6.0', '2.5', 3], ['6.9', '3.1', '5.4', '2.1', 3], ['4.8', '3.0', '1.4', '0.1', 1], ['5.1', '3.8', '1.9', '0.4', 1], ['6.3', '3.4', '5.6', '2.4', 3], ['4.9', '3.1', '1.5', '0.1', 1], ['5.8', '2.7', '5.1', '1.9', 3], ['5.7', '3.0', '4.2', '1.2', 2], ['5.4', '3.4', '1.7', '0.2', 1], ['6.9', '3.2', '5.7', '2.3', 3], ['4.6', '3.1', '1.5', '0.2', 1], ['6.2', '2.9', '4.3', '1.3', 2], ['6.4', '2.7', '5.3', '1.9', 3], ['4.8', '3.4', '1.6', '0.2', 1], ['7.2', '3.6', '6.1', '2.5', 3], ['4.6', '3.6', '1.0', '0.2', 1], ['7.7', '2.8', '6.7', '2.0', 3], ['4.4', '3.0', '1.3', '0.2', 1], ['6.8', '3.0', '5.5', '2.1', 3], ['6.1', '2.8', '4.0', '1.3', 2], ['4.3', '3.0', '1.1', '0.1', 1], ['5.5', '2.6', '4.4', '1.2', 2], ['6.7', '3.0', '5.0', '1.7', 2], ['5.1', '3.8', '1.6', '0.2', 1], ['5.2', '4.1', '1.5', '0.1', 1], ['6.5', '3.0', '5.5', '1.8', 3], ['6.7', '2.5', '5.8', '1.8', 3], ['5.0', '2.3', '3.3', '1.0', 2], ['5.7', '3.8', '1.7', '0.3', 1], ['5.1', '3.7', '1.5', '0.4', 1], ['4.7', '3.2', '1.3', '0.2', 1], ['6.7', '3.1', '4.4', '1.4', 2], ['5.1', '3.4', '1.5', '0.2', 1], ['7.0', '3.2', '4.7', '1.4', 2], ['7.7', '3.8', '6.7', '2.2', 3], ['6.4', '2.8', '5.6', '2.1', 3], ['5.5', '2.3', '4.0', '1.3', 2], ['6.7', '3.1', '4.7', '1.5', 2], ['5.8', '2.7', '5.1', '1.9', 3], ['5.7', '2.8', '4.5', '1.3', 2], ['5.1', '3.5', '1.4', '0.3', 1], ['5.7', '2.5', '5.0', '2.0', 3], ['5.9', '3.2', '4.8', '1.8', 2], ['4.6', '3.4', '1.4', '0.3', 1], ['5.5', '3.5', '1.3', '0.2', 1], ['6.7', '3.3', '5.7', '2.1', 3], ['5.0', '3.4', '1.5', '0.2', 1], ['4.4', '3.2', '1.3', '0.2', 1], ['4.6', '3.2', '1.4', '0.2', 1], ['6.9', '3.1', '5.1', '2.3', 3], ['6.1', '3.0', '4.6', '1.4', 2], ['7.2', '3.2', '6.0', '1.8', 3], ['5.3', '3.7', '1.5', '0.2', 1], ['5.1', '3.3', '1.7', '0.5', 1], ['6.4', '3.2', '4.5', '1.5', 2], ['5.4', '3.9', '1.7', '0.4', 1], ['5.6', '2.9', '3.6', '1.3', 2], ['6.1', '2.9', '4.7', '1.4', 2], ['4.4', '2.9', '1.4', '0.2', 1], ['5.9', '3.0', '5.1', '1.8', 3], ['6.2', '2.8', '4.8', '1.8', 3], ['5.8', '2.7', '4.1', '1.0', 2], ['7.6', '3.0', '6.6', '2.1', 3], ['5.7', '2.6', '3.5', '1.0', 2], ['6.7', '3.3', '5.7', '2.5', 3], ['5.0', '3.5', '1.6', '0.6', 1], ['6.8', '2.8', '4.8', '1.4', 2], ['6.0', '2.2', '4.0', '1.0', 2], ['5.2', '2.7', '3.9', '1.4', 2], ['6.1', '2.8', '4.7', '1.2', 2], ['5.0', '3.4', '1.6', '0.4', 1], ['4.5', '2.3', '1.3', '0.3', 1], ['6.4', '3.2', '5.3', '2.3', 3], ['6.1', '2.6', '5.6', '1.4', 3], ['4.7', '3.2', '1.6', '0.2', 1], ['5.0', '3.3', '1.4', '0.2', 1], ['6.1', '3.0', '4.9', '1.8', 3], ['5.6', '2.7', '4.2', '1.3', 2], ['7.4', '2.8', '6.1', '1.9', 3], ['5.2', '3.4', '1.4', '0.2', 1]]\n"
     ]
    }
   ],
   "source": [
    "#feature engineering last row to numeric values\n",
    "for row in dataset:\n",
    "    row[4]=flowers[row[4]] \n",
    "print(\"Changing flower names to numeric representation:\\n\")    \n",
    "print(dataset)    "
   ]
  },
  {
   "cell_type": "code",
   "execution_count": 6,
   "metadata": {},
   "outputs": [
    {
     "name": "stdout",
     "output_type": "stream",
     "text": [
      "Dataset divided in development and testing datasets:\n",
      "\n",
      "Developing Dataset:\n",
      "\n",
      "[['6.0', '2.2', '5.0', '1.5', 3], ['6.2', '2.2', '4.5', '1.5', 2], ['6.5', '3.0', '5.8', '2.2', 3], ['7.9', '3.8', '6.4', '2.0', 3], ['4.9', '3.0', '1.4', '0.2', 1], ['5.4', '3.9', '1.3', '0.4', 1], ['6.5', '2.8', '4.6', '1.5', 2], ['4.8', '3.1', '1.6', '0.2', 1], ['5.1', '3.8', '1.5', '0.3', 1], ['6.4', '2.9', '4.3', '1.3', 2], ['6.5', '3.0', '5.2', '2.0', 3], ['5.1', '2.5', '3.0', '1.1', 2], ['5.8', '2.7', '3.9', '1.2', 2], ['5.8', '2.6', '4.0', '1.2', 2], ['7.2', '3.0', '5.8', '1.6', 3], ['5.0', '3.0', '1.6', '0.2', 1], ['4.9', '2.4', '3.3', '1.0', 2], ['5.5', '2.5', '4.0', '1.3', 2], ['5.4', '3.4', '1.5', '0.4', 1], ['5.5', '2.4', '3.7', '1.0', 2], ['6.6', '3.0', '4.4', '1.4', 2], ['4.9', '3.1', '1.5', '0.1', 1], ['5.0', '3.5', '1.3', '0.3', 1], ['6.3', '2.3', '4.4', '1.3', 2], ['5.0', '3.6', '1.4', '0.2', 1], ['5.5', '4.2', '1.4', '0.2', 1], ['5.6', '3.0', '4.5', '1.5', 2], ['5.7', '4.4', '1.5', '0.4', 1], ['6.3', '2.5', '5.0', '1.9', 3], ['6.9', '3.1', '4.9', '1.5', 2], ['5.0', '3.2', '1.2', '0.2', 1], ['4.8', '3.0', '1.4', '0.3', 1], ['6.3', '2.7', '4.9', '1.8', 3], ['4.9', '2.5', '4.5', '1.7', 3], ['6.0', '3.4', '4.5', '1.6', 2], ['5.4', '3.7', '1.5', '0.2', 1], ['6.4', '3.1', '5.5', '1.8', 3], ['5.7', '2.8', '4.1', '1.3', 2], ['6.0', '2.9', '4.5', '1.5', 2], ['4.8', '3.4', '1.9', '0.2', 1], ['5.9', '3.0', '4.2', '1.5', 2], ['4.9', '3.1', '1.5', '0.1', 1], ['6.0', '2.7', '5.1', '1.6', 2], ['6.5', '3.2', '5.1', '2.0', 3], ['6.0', '3.0', '4.8', '1.8', 3], ['7.7', '2.6', '6.9', '2.3', 3], ['6.3', '2.9', '5.6', '1.8', 3], ['6.7', '3.0', '5.2', '2.3', 3], ['5.6', '2.8', '4.9', '2.0', 3], ['5.6', '2.5', '3.9', '1.1', 2], ['5.8', '4.0', '1.2', '0.2', 1], ['5.8', '2.8', '5.1', '2.4', 3], ['6.3', '2.8', '5.1', '1.5', 3], ['6.4', '2.8', '5.6', '2.2', 3], ['5.2', '3.5', '1.5', '0.2', 1], ['7.7', '3.0', '6.1', '2.3', 3], ['6.6', '2.9', '4.6', '1.3', 2], ['7.3', '2.9', '6.3', '1.8', 3], ['5.6', '3.0', '4.1', '1.3', 2], ['6.2', '3.4', '5.4', '2.3', 3], ['7.1', '3.0', '5.9', '2.1', 3], ['5.5', '2.4', '3.8', '1.1', 2], ['5.4', '3.0', '4.5', '1.5', 2], ['6.7', '3.1', '5.6', '2.4', 3], ['6.3', '3.3', '4.7', '1.6', 2], ['5.7', '2.9', '4.2', '1.3', 2], ['5.1', '3.5', '1.4', '0.2', 1], ['5.0', '2.0', '3.5', '1.0', 2], ['6.3', '2.5', '4.9', '1.5', 2], ['6.8', '3.2', '5.9', '2.3', 3], ['6.3', '3.3', '6.0', '2.5', 3], ['6.9', '3.1', '5.4', '2.1', 3], ['4.8', '3.0', '1.4', '0.1', 1], ['5.1', '3.8', '1.9', '0.4', 1], ['6.3', '3.4', '5.6', '2.4', 3], ['4.9', '3.1', '1.5', '0.1', 1], ['5.8', '2.7', '5.1', '1.9', 3], ['5.7', '3.0', '4.2', '1.2', 2], ['5.4', '3.4', '1.7', '0.2', 1], ['6.9', '3.2', '5.7', '2.3', 3], ['4.6', '3.1', '1.5', '0.2', 1], ['6.2', '2.9', '4.3', '1.3', 2], ['6.4', '2.7', '5.3', '1.9', 3], ['4.8', '3.4', '1.6', '0.2', 1], ['7.2', '3.6', '6.1', '2.5', 3], ['4.6', '3.6', '1.0', '0.2', 1], ['7.7', '2.8', '6.7', '2.0', 3], ['4.4', '3.0', '1.3', '0.2', 1], ['6.8', '3.0', '5.5', '2.1', 3], ['6.1', '2.8', '4.0', '1.3', 2], ['4.3', '3.0', '1.1', '0.1', 1], ['5.5', '2.6', '4.4', '1.2', 2], ['6.7', '3.0', '5.0', '1.7', 2], ['5.1', '3.8', '1.6', '0.2', 1], ['5.2', '4.1', '1.5', '0.1', 1], ['6.5', '3.0', '5.5', '1.8', 3], ['6.7', '2.5', '5.8', '1.8', 3], ['5.0', '2.3', '3.3', '1.0', 2], ['5.7', '3.8', '1.7', '0.3', 1], ['5.1', '3.7', '1.5', '0.4', 1], ['4.7', '3.2', '1.3', '0.2', 1], ['6.7', '3.1', '4.4', '1.4', 2], ['5.1', '3.4', '1.5', '0.2', 1], ['7.0', '3.2', '4.7', '1.4', 2], ['7.7', '3.8', '6.7', '2.2', 3]]\n",
      "\n",
      "Testing Dataset:\n",
      "\n",
      "[['5.5', '2.3', '4.0', '1.3', 2], ['6.7', '3.1', '4.7', '1.5', 2], ['5.8', '2.7', '5.1', '1.9', 3], ['5.7', '2.8', '4.5', '1.3', 2], ['5.1', '3.5', '1.4', '0.3', 1], ['5.7', '2.5', '5.0', '2.0', 3], ['5.9', '3.2', '4.8', '1.8', 2], ['4.6', '3.4', '1.4', '0.3', 1], ['5.5', '3.5', '1.3', '0.2', 1], ['6.7', '3.3', '5.7', '2.1', 3], ['5.0', '3.4', '1.5', '0.2', 1], ['4.4', '3.2', '1.3', '0.2', 1], ['4.6', '3.2', '1.4', '0.2', 1], ['6.9', '3.1', '5.1', '2.3', 3], ['6.1', '3.0', '4.6', '1.4', 2], ['7.2', '3.2', '6.0', '1.8', 3], ['5.3', '3.7', '1.5', '0.2', 1], ['5.1', '3.3', '1.7', '0.5', 1], ['6.4', '3.2', '4.5', '1.5', 2], ['5.4', '3.9', '1.7', '0.4', 1], ['5.6', '2.9', '3.6', '1.3', 2], ['6.1', '2.9', '4.7', '1.4', 2], ['4.4', '2.9', '1.4', '0.2', 1], ['5.9', '3.0', '5.1', '1.8', 3], ['6.2', '2.8', '4.8', '1.8', 3], ['5.8', '2.7', '4.1', '1.0', 2], ['7.6', '3.0', '6.6', '2.1', 3], ['5.7', '2.6', '3.5', '1.0', 2], ['6.7', '3.3', '5.7', '2.5', 3], ['5.0', '3.5', '1.6', '0.6', 1], ['6.8', '2.8', '4.8', '1.4', 2], ['6.0', '2.2', '4.0', '1.0', 2], ['5.2', '2.7', '3.9', '1.4', 2], ['6.1', '2.8', '4.7', '1.2', 2], ['5.0', '3.4', '1.6', '0.4', 1], ['4.5', '2.3', '1.3', '0.3', 1], ['6.4', '3.2', '5.3', '2.3', 3], ['6.1', '2.6', '5.6', '1.4', 3], ['4.7', '3.2', '1.6', '0.2', 1], ['5.0', '3.3', '1.4', '0.2', 1], ['6.1', '3.0', '4.9', '1.8', 3], ['5.6', '2.7', '4.2', '1.3', 2], ['7.4', '2.8', '6.1', '1.9', 3], ['5.2', '3.4', '1.4', '0.2', 1]]\n"
     ]
    }
   ],
   "source": [
    "#Split the dataset in the ratio of 70:30 developing and testing dataset\n",
    "first_portion=70\n",
    "dev_dataset=dataset[0:(int)((first_portion*total_data)/100)]\n",
    "test_dataset=dataset[(int)((first_portion*total_data)/100)+1:]  \n",
    "print(\"Dataset divided in development and testing datasets:\\n\") \n",
    "print(\"Developing Dataset:\\n\") \n",
    "print(dev_dataset) \n",
    "print(\"\\nTesting Dataset:\\n\") \n",
    "print(test_dataset) "
   ]
  },
  {
   "cell_type": "markdown",
   "metadata": {},
   "source": [
    "<strong>B.implement kNN using the following hyperparameters</strong>\n",
    "* number of neighbor K \n",
    "    * 1,3,5,7\n",
    "* distance metric\n",
    "    * euclidean distance\n",
    "    * normalized euclidean distance\n",
    "    * cosine similarity\n",
    "\n"
   ]
  },
  {
   "cell_type": "code",
   "execution_count": 7,
   "metadata": {},
   "outputs": [
    {
     "name": "stdout",
     "output_type": "stream",
     "text": [
      "Euclidean_Distance testing:\n",
      "0.5477225575051661\n",
      "\n",
      "Normalised_Euclidean_Distance testing:\n",
      "0.0006946526736631684\n",
      "\n",
      "Cosine Distance testing:\n",
      "0.0\n"
     ]
    }
   ],
   "source": [
    "#Define functions to find distance between 2 vector: Euclidean, Normalised Euclidean(0,1), Cosine Similarity \n",
    "\n",
    "from math import *\n",
    "def euclidean_distance(XVector,YVector):\n",
    "    distance=0.0\n",
    "    for i in range(len(XVector)-1):#-1 because we don't want to calculate the result\n",
    "        distance=distance+(float(XVector[i])-float(YVector[i]))**2\n",
    "    return sqrt(distance) \n",
    "\n",
    "def variance(Vector):\n",
    "    #calculate mean\n",
    "    mean = sum(Vector) / len(Vector)\n",
    "    #calculate variance\n",
    "    var=sum((k - mean) ** 2 for k in Vector) / len(Vector)\n",
    "    return var\n",
    "\n",
    "def normalised_euclidean_distance(XVector,YVector):\n",
    "    diff=[]\n",
    "    X=[]\n",
    "    Y=[]\n",
    "    \n",
    "    for i in range(len(XVector)-1):#-1 because we don't want to calculate the result\n",
    "        diff.append((float(XVector[i])-float(YVector[i]))**2)\n",
    "        X.append(float(XVector[i]))\n",
    "        Y.append(float(YVector[i]))\n",
    "           \n",
    "    #calculate norm euclidean dist\n",
    "    ned=0.5*variance(diff)/(variance(X)+variance(Y))\n",
    "    return ned \n",
    "\n",
    "def cosine_similarity(XVector,YVector):\n",
    "    dot_product=0.0\n",
    "    X_norm=0.0\n",
    "    Y_norm=0.0\n",
    "    for i in range(len(XVector)-1):\n",
    "        dot_product=dot_product+(float(XVector[i])*float(YVector[i]))\n",
    "        X_norm=X_norm+(float(XVector[i])**2)\n",
    "        Y_norm=Y_norm+(float(YVector[i])**2)\n",
    "    return 1-(dot_product/(sqrt(X_norm)*sqrt(Y_norm)))  \n",
    "\n",
    "print(\"Euclidean_Distance testing:\")\n",
    "print(euclidean_distance(['5.0', '3.4', '1.5', '0.2', 1],['5.5', '3.5', '1.3', '0.2', 1]))\n",
    "\n",
    "print(\"\\nNormalised_Euclidean_Distance testing:\")\n",
    "print(normalised_euclidean_distance(['5.0', '3.4', '1.5', '0.2', 1],['5.5', '3.5', '1.3', '0.2', 1]))\n",
    "\n",
    "print(\"\\nCosine Distance testing:\") \n",
    "print(cosine_similarity(['5.0', '3.4', '1.5', '0.2', 1],['5.0', '3.4', '1.5', '0.2', 1]))"
   ]
  },
  {
   "cell_type": "code",
   "execution_count": 8,
   "metadata": {},
   "outputs": [
    {
     "name": "stdout",
     "output_type": "stream",
     "text": [
      "Predicated class from neighbouring vector is:\n"
     ]
    },
    {
     "data": {
      "text/plain": [
       "2"
      ]
     },
     "execution_count": 8,
     "metadata": {},
     "output_type": "execute_result"
    }
   ],
   "source": [
    "#find k neighbours \n",
    "def find_k_no_neighbours(vector,kvalue):\n",
    "    vector.sort(key=lambda x:x[-1])\n",
    "    return vector[1:kvalue+1]\n",
    "\n",
    "#predicate class based on majority of neighbours\n",
    "def predicate_class(top_neighbours):\n",
    "    OutputList=get_coulmn_data(top_neighbours, 4)\n",
    "    return max(set(OutputList), key=OutputList.count)\n",
    "\n",
    "#calulate the accuracy of result\n",
    "def calc_accuracy(expexted_values,predicted_values):\n",
    "    count=0;\n",
    "    for i in range(len(expexted_values)):\n",
    "        if(expexted_values[i]==predicted_values[i]):\n",
    "            count=count+1\n",
    "    accuracy=(count*100)/len(expexted_values) \n",
    "    return accuracy\n",
    "\n",
    "t_neighbour=[['5.6', '2.8', '4.9', '2.0', 1, 0.4898979485566353], \n",
    "             ['5.8', '2.7', '5.1', '1.9', 2, 0.5099019513592784], \n",
    "             ['5.8', '2.7', '5.1', '1.9', 2, 0.5099019513592784]]\n",
    "print(\"Predicated class from neighbouring vector is:\")\n",
    "predicate_class(t_neighbour)"
   ]
  },
  {
   "cell_type": "code",
   "execution_count": 9,
   "metadata": {},
   "outputs": [
    {
     "name": "stdout",
     "output_type": "stream",
     "text": [
      "Accuracy rate of Euclidean_KNN_Classifier:\n",
      "95.23809523809524\n"
     ]
    }
   ],
   "source": [
    "def Euclidean_KNN_Classifier(dataset,predicate_set,kvalue):\n",
    "    predicate_set2=predicate_set.copy()\n",
    "    predictated_values=[]\n",
    "    for i in range(len(predicate_set2)):\n",
    "        #print(\"i\"+str(i))\n",
    "        dataset2 = list(map(list, dataset))\n",
    "        #dataset2=dataset.copy()\n",
    "        for j in range(len(dataset2)):\n",
    "            #print(\"j\"+str(j))\n",
    "            dataset2[j].append(euclidean_distance(predicate_set2[i],dataset2[j]))\n",
    "        neighbours=find_k_no_neighbours(dataset2,kvalue)   \n",
    "#         print(\"dataset2\")\n",
    "#         print(dataset2)\n",
    "#         print(\"neighbours\")\n",
    "#         print(neighbours)\n",
    "#         print(\"predicate_set2\")\n",
    "        predictated_values.append(predicate_class(neighbours))\n",
    "        #print(predictated_values)\n",
    "        #clearing distance value in appended in array before appending new column of distance:\n",
    "        #dataset2=dataset2[:,-1]\n",
    "        #[k.pop(-1) for k in dataset2] \n",
    "        #[k.pop(-1) for k in dataset] \n",
    "#         print(\"dataset2\")\n",
    "#         print(dataset2)\n",
    "#     print(get_coulmn_data(predicate_set, 4))\n",
    "#     print(predictated_values)\n",
    "    accurate_rate=calc_accuracy(get_coulmn_data(predicate_set, 4),predictated_values)  \n",
    "    return accurate_rate\n",
    "\n",
    "print(\"Accuracy rate of Euclidean_KNN_Classifier:\")\n",
    "print(Euclidean_KNN_Classifier(dataset,dev_dataset,1))\n",
    "            "
   ]
  },
  {
   "cell_type": "code",
   "execution_count": 10,
   "metadata": {},
   "outputs": [
    {
     "name": "stdout",
     "output_type": "stream",
     "text": [
      "Accuracy rate from Cosine_KNN_Classifier is:\n",
      "96.19047619047619\n"
     ]
    }
   ],
   "source": [
    "def Cosine_KNN_Classifier(dataset,predicate_set,kvalue):\n",
    "    predicate_set2=predicate_set.copy()\n",
    "    predictated_values=[]\n",
    "    for i in range(len(predicate_set2)):\n",
    "        #print(\"i\"+str(i))\n",
    "        dataset2 = list(map(list, dataset))\n",
    "        #dataset2=dataset.copy()\n",
    "        for j in range(len(dataset2)):\n",
    "            #print(\"j\"+str(j))\n",
    "            dataset2[j].append(cosine_similarity(predicate_set2[i],dataset2[j]))\n",
    "        neighbours=find_k_no_neighbours(dataset2,kvalue)   \n",
    "#         print(\"dataset2\")\n",
    "#         print(dataset2)\n",
    "#         print(\"neighbours\")\n",
    "#         print(neighbours)\n",
    "#         print(\"predicate_set2\")\n",
    "        predictated_values.append(predicate_class(neighbours))\n",
    "#         print(predictated_values)\n",
    "        #clearing distance value in appended in array before appending new column of distance:\n",
    "        #dataset2=dataset2[:,-1]\n",
    "        #[k.pop(-1) for k in dataset2] \n",
    "        #[k.pop(-1) for k in dataset] \n",
    "#         print(\"dataset2\")\n",
    "#         print(dataset2)\n",
    "#     print(get_coulmn_data(predicate_set, 4))\n",
    "#     print(predictated_values)\n",
    "    accurate_rate=calc_accuracy(get_coulmn_data(predicate_set, 4),predictated_values)  \n",
    "    return accurate_rate\n",
    "\n",
    "print(\"Accuracy rate from Cosine_KNN_Classifier is:\")\n",
    "print(Cosine_KNN_Classifier(dataset,dev_dataset,9))"
   ]
  },
  {
   "cell_type": "code",
   "execution_count": 11,
   "metadata": {},
   "outputs": [
    {
     "name": "stdout",
     "output_type": "stream",
     "text": [
      "Accuracy rate from Normalised_Euclidean_KNN_Classifier is:\n",
      "98.0952380952381\n"
     ]
    }
   ],
   "source": [
    "def Normalised_Euclidean_KNN_Classifier(dataset,predicate_set,kvalue):\n",
    "    predicate_set2=predicate_set.copy()\n",
    "    predictated_values=[]\n",
    "    for i in range(len(predicate_set2)):\n",
    "        #print(\"i\"+str(i))\n",
    "        dataset2 = list(map(list, dataset))\n",
    "        #dataset2=dataset.copy()\n",
    "        for j in range(len(dataset2)):\n",
    "            #print(\"j\"+str(j))\n",
    "            dataset2[j].append(normalised_euclidean_distance(predicate_set2[i],dataset2[j]))\n",
    "        neighbours=find_k_no_neighbours(dataset2,kvalue)   \n",
    "#         print(\"dataset2\")\n",
    "#         print(dataset2)\n",
    "#         print(\"neighbours\")\n",
    "#         print(neighbours)\n",
    "#         print(\"predicate_set2\")\n",
    "        predictated_values.append(predicate_class(neighbours))\n",
    "        #print(predictated_values)\n",
    "        #clearing distance value in appended in array before appending new column of distance:\n",
    "        #dataset2=dataset2[:,-1]\n",
    "        #[k.pop(-1) for k in dataset2] \n",
    "        #[k.pop(-1) for k in dataset] \n",
    "#         print(\"dataset2\")\n",
    "#         print(dataset2)\n",
    "#     print(get_coulmn_data(predicate_set, 4))\n",
    "#     print(predictated_values)\n",
    "    accurate_rate=calc_accuracy(get_coulmn_data(predicate_set, 4),predictated_values)  \n",
    "    return accurate_rate\n",
    "\n",
    "print(\"Accuracy rate from Normalised_Euclidean_KNN_Classifier is:\")\n",
    "print(Normalised_Euclidean_KNN_Classifier(dataset,dev_dataset,7))\n",
    "            "
   ]
  },
  {
   "cell_type": "markdown",
   "metadata": {},
   "source": [
    "<strong>C. Using the development dataset</strong>\n",
    "* Calculate accuracy by iterating all of the development data point\n",
    "* Find optimal hyperparameters\n",
    "    * Draw bar charts for accuracy\n"
   ]
  },
  {
   "cell_type": "code",
   "execution_count": 12,
   "metadata": {
    "scrolled": true
   },
   "outputs": [
    {
     "name": "stdout",
     "output_type": "stream",
     "text": [
      "Euclidean & k1 is: 95.23809523809524\n",
      "Normalized Euclidean & k1 is: 97.14285714285714\n",
      "Cosine & k1 is: 95.23809523809524\n",
      "Euclidean & k3 is: 94.28571428571429\n",
      "Normalized Euclidean & k3 is: 96.19047619047619\n",
      "Cosine & k3 is: 94.28571428571429\n",
      "Euclidean & k5 is: 95.23809523809524\n",
      "Normalized Euclidean & k5 is: 98.0952380952381\n",
      "Cosine & k5 is: 97.14285714285714\n",
      "Euclidean & k7 is: 95.23809523809524\n",
      "Normalized Euclidean & k7 is: 98.0952380952381\n",
      "Cosine & k7 is: 96.19047619047619\n"
     ]
    },
    {
     "data": {
      "image/png": "[encoded data removed]",
      "text/plain": [
       "<Figure size 432x288 with 1 Axes>"
      ]
     },
     "metadata": {
      "needs_background": "light"
     },
     "output_type": "display_data"
    }
   ],
   "source": [
    "import numpy as np\n",
    "import matplotlib.pyplot as plt\n",
    "%matplotlib inline\n",
    "kvalue=[1,3,5,7]\n",
    "\n",
    "#calc accuracy considering hyperparameters k and distances\n",
    "dist_hyper = [\"Euclidean\",\"Normalized Euclidean\",\"Cosine\"]\n",
    "\n",
    "# print(len(dist_hyper))\n",
    "# print(len(kvalue))\n",
    "k=[]\n",
    "for i in range(len(kvalue)):\n",
    "    m=[]\n",
    "    m.append(Euclidean_KNN_Classifier(dataset,dev_dataset,i+1))\n",
    "    m.append(Normalised_Euclidean_KNN_Classifier(dataset,dev_dataset,i+1))\n",
    "    m.append(Cosine_KNN_Classifier(dataset,dev_dataset,i+1))\n",
    "    k.append(m)   \n",
    "\n",
    "# print(\"Matrix kvalue X distance_methods:\")\n",
    "# print(k)#we have created kvalue X distance_methods martix to find accuracy rate to plot in bar graph:\n",
    "for i in range(len(kvalue)):\n",
    "    for j in range(len(dist_hyper)):\n",
    "        #print(str(j))\n",
    "        print(str(dist_hyper[j])+\" & k\"+str(kvalue[i])+\" is: \"+str(k[i][j]))\n",
    "\n",
    "# set width of bar\n",
    "barWidth = 0.1\n",
    "# set height of bar\n",
    "bars1 = [12, 30, 1, 8, 22]\n",
    "bars2 = [28, 6, 16, 5, 10]\n",
    "bars3 = [29, 3, 24, 25, 17]\n",
    "\n",
    "# Set position of bar on X axis\n",
    "r1 = np.arange(len(k[0]))\n",
    "r2 = [x + barWidth for x in r1]\n",
    "r3 = [x + barWidth for x in r2]\n",
    "r4 = [x + barWidth for x in r3]\n",
    "\n",
    "# Make the plot\n",
    "plt.bar(r1, k[0], color='#7f6d5f', width=barWidth, edgecolor='white', label='k=1')\n",
    "plt.bar(r2, k[1], color='#557f2d', width=barWidth, edgecolor='white', label='k=3')\n",
    "plt.bar(r3, k[2], color='#2d7f5e', width=barWidth, edgecolor='white', label='k=5')\n",
    "plt.bar(r4, k[3], color='#2d7f51', width=barWidth, edgecolor='white', label='k=7')\n",
    "\n",
    "# Add xticks on the middle of the group bars\n",
    "plt.xlabel('Distance Hyperparameter', fontweight='bold')\n",
    "plt.xticks([r + barWidth for r in range(len(k[0]))], dist_hyper)\n",
    "\n",
    "plt.ylim(0,150)\n",
    "plt.grid()\n",
    "\n",
    "# Create legend & Show graphic\n",
    "plt.legend()\n",
    "plt.show()\n"
   ]
  },
  {
   "cell_type": "markdown",
   "metadata": {},
   "source": [
    "<strong>D. Using the test dataset</strong>\n",
    "* Use the optimal hyperparameters you found in the step c, and use it to calculate the final accuracy.  "
   ]
  },
  {
   "cell_type": "markdown",
   "metadata": {},
   "source": [
    "Based on Graph above K=7 and Normalized Euclidean distance have highest accuracy rate among all other hyperparameter"
   ]
  },
  {
   "cell_type": "code",
   "execution_count": 14,
   "metadata": {},
   "outputs": [
    {
     "name": "stdout",
     "output_type": "stream",
     "text": [
      "Final accuracy:\n",
      "97.72727272727273\n"
     ]
    }
   ],
   "source": [
    "#test on test data\n",
    "print(\"Final accuracy:\")\n",
    "print(Normalised_Euclidean_KNN_Classifier(dataset,test_dataset,7))"
   ]
  },
  {
   "cell_type": "markdown",
   "metadata": {},
   "source": [
    "Reference:\n",
    "KNN:https://www.tutorialspoint.com/machine_learning_with_python/machine_learning_with_python_knn_algorithm_finding_nearest_neighbors.htm<br/>Reading a file from python:https://www.geeksforgeeks.org/reading-writing-text-files-python/\n",
    " <br/> Coding Approach1: https://machinelearningmastery.com/tutorial-to-implement-k-nearest-neighbors-in-python-from-scratch/\n",
    " <br/> Coding Approach2: https://towardsdatascience.com/lets-make-a-knn-classifier-from-scratch-e73c43da346d\n",
    " <br/> Get Column data: https://stackoverflow.com/questions/903853/how-do-you-extract-a-column-from-a-multi-dimensional-array\n",
    "<br/>  Cosine Similarity: https://skipperkongen.dk/2018/09/19/cosine-similarity-in-python/\n",
    " <br/> Clone 2d array without disturbing original without any libraries: https://stackoverflow.com/questions/6532881/how-to-make-a-copy-of-a-2d-array-in-python\n",
    " <br/> Find repeated integer in list: https://www.quora.com/How-do-I-find-the-most-repeated-integer-in-a-list-in-python\n",
    "<br/>  Bar chart: https://www.tutorialspoint.com/matplotlib/matplotlib_bar_plot.htm\n",
    " <br/> Bar chart2: https://python-graph-gallery.com/11-grouped-barplot/\n",
    " <br/> Delete column: https://www.geeksforgeeks.org/python-column-deletion-from-list-of-lists/\n",
    " <br/> Mean & Variance: http://stackoverflow.com/questions/35583302/how-can-i-calculate-the-variance-of-a-list-in-python/35583512"
   ]
  },
  {
   "cell_type": "code",
   "execution_count": null,
   "metadata": {},
   "outputs": [],
   "source": []
  }
 ],
 "metadata": {
  "kernelspec": {
   "display_name": "Python 3",
   "language": "python",
   "name": "python3"
  },
  "language_info": {
   "codemirror_mode": {
    "name": "ipython",
    "version": 3
   },
   "file_extension": ".py",
   "mimetype": "text/x-python",
   "name": "python",
   "nbconvert_exporter": "python",
   "pygments_lexer": "ipython3",
   "version": "3.7.4"
  }
 },
 "nbformat": 4,
 "nbformat_minor": 2
}
