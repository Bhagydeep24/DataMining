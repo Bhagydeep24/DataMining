{
  "nbformat": 4,
  "nbformat_minor": 0,
  "metadata": {
    "colab": {
      "name": "FinalProjectNotebook.ipynb",
      "provenance": [],
      "collapsed_sections": [],
      "toc_visible": true,
      "machine_shape": "hm"
    },
    "kernelspec": {
      "name": "python3",
      "display_name": "Python 3"
    }
  },
  "cells": [
    {
      "cell_type": "markdown",
      "metadata": {
        "id": "xzNiIcyhwSmu",
        "colab_type": "text"
      },
      "source": [
        "# Data Mining Final Term Project:\n",
        "\n",
        "**Name: Deep Bipinbhai Patel</br>\n",
        "ID: 1001765854**\n",
        "\n",
        "*Kaggle Competition* : https://www.kaggle.com/jvanelteren/boardgamegeek-reviews</br>\n",
        "Dataset set can be downloaded from the above kaggle link:\n",
        "</br></br>\n",
        "### Our goal is to predict the rating of the movie based on the comment provided by the users."
      ]
    },
    {
      "cell_type": "code",
      "metadata": {
        "id": "wDjBrPBzxso9",
        "colab_type": "code",
        "outputId": "88dcd9dc-6d4f-41f0-c0c0-ec5c3974361c",
        "colab": {
          "base_uri": "https://localhost:8080/",
          "height": 51
        }
      },
      "source": [
        "pip install pyspark\n"
      ],
      "execution_count": 90,
      "outputs": [
        {
          "output_type": "stream",
          "text": [
            "Requirement already satisfied: pyspark in /usr/local/lib/python3.6/dist-packages (2.4.5)\n",
            "Requirement already satisfied: py4j==0.10.7 in /usr/local/lib/python3.6/dist-packages (from pyspark) (0.10.7)\n"
          ],
          "name": "stdout"
        }
      ]
    },
    {
      "cell_type": "code",
      "metadata": {
        "id": "rkpYxwBZ1URv",
        "colab_type": "code",
        "outputId": "59fc5d5c-c0c4-4f06-92d0-4c039b7c2ad5",
        "colab": {
          "base_uri": "https://localhost:8080/",
          "height": 68
        }
      },
      "source": [
        "import nltk\n",
        "nltk.download('stopwords')"
      ],
      "execution_count": 91,
      "outputs": [
        {
          "output_type": "stream",
          "text": [
            "[nltk_data] Downloading package stopwords to /root/nltk_data...\n",
            "[nltk_data]   Package stopwords is already up-to-date!\n"
          ],
          "name": "stdout"
        },
        {
          "output_type": "execute_result",
          "data": {
            "text/plain": [
              "True"
            ]
          },
          "metadata": {
            "tags": []
          },
          "execution_count": 91
        }
      ]
    },
    {
      "cell_type": "code",
      "metadata": {
        "id": "GkV-edE-wHMS",
        "colab_type": "code",
        "colab": {}
      },
      "source": [
        "#import all the required library:\n",
        "import pandas as pd \n",
        "import numpy as np\n",
        "import re\n",
        "import pickle\n",
        "from tqdm import tqdm\n",
        "import dask.dataframe as dd\n",
        "from pyspark.sql import *\n",
        "from pyspark.context import SparkContext\n",
        "from pyspark.sql.session import SparkSession\n",
        "import matplotlib.pyplot as plt\n",
        "from nltk.corpus import stopwords\n",
        "stop = stopwords.words('english')\n",
        "from sklearn.model_selection import KFold, cross_val_score, train_test_split\n",
        "from sklearn.metrics import plot_confusion_matrix\n",
        "from sklearn.metrics import confusion_matrix\n",
        "import seaborn as sns\n",
        "from sklearn import metrics\n",
        "from sklearn.metrics import accuracy_score"
      ],
      "execution_count": 0,
      "outputs": []
    },
    {
      "cell_type": "markdown",
      "metadata": {
        "id": "mbrHQSrCXyum",
        "colab_type": "text"
      },
      "source": [
        "### **Steps to achieve our goal:**\n",
        "<pre>\n",
        "1. Fetch Data\n",
        "2. Data Cleaning and Exploration\n",
        "3. Word Count- Count Vectorizer\n",
        "4. TF-IDF\n",
        "5. Build Models\n",
        "          A. Mulitnomial NM\n",
        "          B. Random Forest\n",
        "             i. K- fold\n",
        "          C. SVC\n",
        "             i. Hyper-parameter tuning  \n",
        "6. Compare different models and select best model \n",
        "</pre> "
      ]
    },
    {
      "cell_type": "markdown",
      "metadata": {
        "id": "cwmAoox6yGdB",
        "colab_type": "text"
      },
      "source": [
        "# 1.Fetch Data"
      ]
    },
    {
      "cell_type": "code",
      "metadata": {
        "id": "GseKVYWrxnZF",
        "colab_type": "code",
        "outputId": "4434b0f0-33c8-4d9d-ed24-d1a1dfbdc8f8",
        "colab": {
          "base_uri": "https://localhost:8080/",
          "height": 68
        }
      },
      "source": [
        "#let's check the no or records we are dealing with\n",
        "%%time\n",
        "path='/content/drive/My Drive/boardgamegeek-reviews/bgg-13m-reviews.csv'\n",
        "with open(path) as file:\n",
        "    row_count = len(file.readlines())\n",
        "\n",
        "print('Total rows='+str(row_count))"
      ],
      "execution_count": 93,
      "outputs": [
        {
          "output_type": "stream",
          "text": [
            "Total rows=13170074\n",
            "CPU times: user 6.2 s, sys: 3.18 s, total: 9.38 s\n",
            "Wall time: 9.39 s\n"
          ],
          "name": "stdout"
        }
      ]
    },
    {
      "cell_type": "markdown",
      "metadata": {
        "id": "fZttfUH50Nbv",
        "colab_type": "text"
      },
      "source": [
        "**We are dealing with huge data above 13 million so we need to get optimized appproach to deal with record.</br>**\n",
        "![alt text](https://miro.medium.com/max/727/1*qTPZQC50pShw9hjpCg1uYQ.png)\n",
        "</br>\n",
        "A. First we will try get data in chunks"
      ]
    },
    {
      "cell_type": "code",
      "metadata": {
        "id": "l98yly2tzIX5",
        "colab_type": "code",
        "outputId": "3457ab5e-33c7-442f-b843-47588a5a2817",
        "colab": {
          "base_uri": "https://localhost:8080/",
          "height": 204
        }
      },
      "source": [
        "#before we start getting data in chunks first we need to know fetures we are dealing with and type of datatype of values\n",
        "data_tmp = pd.read_csv(path, nrows=5)#let's take top 5 records\n",
        "data_tmp.head()"
      ],
      "execution_count": 94,
      "outputs": [
        {
          "output_type": "execute_result",
          "data": {
            "text/html": [
              "<div>\n",
              "<style scoped>\n",
              "    .dataframe tbody tr th:only-of-type {\n",
              "        vertical-align: middle;\n",
              "    }\n",
              "\n",
              "    .dataframe tbody tr th {\n",
              "        vertical-align: top;\n",
              "    }\n",
              "\n",
              "    .dataframe thead th {\n",
              "        text-align: right;\n",
              "    }\n",
              "</style>\n",
              "<table border=\"1\" class=\"dataframe\">\n",
              "  <thead>\n",
              "    <tr style=\"text-align: right;\">\n",
              "      <th></th>\n",
              "      <th>Unnamed: 0</th>\n",
              "      <th>user</th>\n",
              "      <th>rating</th>\n",
              "      <th>comment</th>\n",
              "      <th>ID</th>\n",
              "      <th>name</th>\n",
              "    </tr>\n",
              "  </thead>\n",
              "  <tbody>\n",
              "    <tr>\n",
              "      <th>0</th>\n",
              "      <td>0</td>\n",
              "      <td>sidehacker</td>\n",
              "      <td>10.0</td>\n",
              "      <td>NaN</td>\n",
              "      <td>13</td>\n",
              "      <td>Catan</td>\n",
              "    </tr>\n",
              "    <tr>\n",
              "      <th>1</th>\n",
              "      <td>1</td>\n",
              "      <td>Varthlokkur</td>\n",
              "      <td>10.0</td>\n",
              "      <td>NaN</td>\n",
              "      <td>13</td>\n",
              "      <td>Catan</td>\n",
              "    </tr>\n",
              "    <tr>\n",
              "      <th>2</th>\n",
              "      <td>2</td>\n",
              "      <td>dougthonus</td>\n",
              "      <td>10.0</td>\n",
              "      <td>Currently, this sits on my list as my favorite...</td>\n",
              "      <td>13</td>\n",
              "      <td>Catan</td>\n",
              "    </tr>\n",
              "    <tr>\n",
              "      <th>3</th>\n",
              "      <td>3</td>\n",
              "      <td>cypar7</td>\n",
              "      <td>10.0</td>\n",
              "      <td>I know it says how many plays, but many, many ...</td>\n",
              "      <td>13</td>\n",
              "      <td>Catan</td>\n",
              "    </tr>\n",
              "    <tr>\n",
              "      <th>4</th>\n",
              "      <td>4</td>\n",
              "      <td>ssmooth</td>\n",
              "      <td>10.0</td>\n",
              "      <td>NaN</td>\n",
              "      <td>13</td>\n",
              "      <td>Catan</td>\n",
              "    </tr>\n",
              "  </tbody>\n",
              "</table>\n",
              "</div>"
            ],
            "text/plain": [
              "   Unnamed: 0         user  ...  ID   name\n",
              "0           0   sidehacker  ...  13  Catan\n",
              "1           1  Varthlokkur  ...  13  Catan\n",
              "2           2   dougthonus  ...  13  Catan\n",
              "3           3       cypar7  ...  13  Catan\n",
              "4           4      ssmooth  ...  13  Catan\n",
              "\n",
              "[5 rows x 6 columns]"
            ]
          },
          "metadata": {
            "tags": []
          },
          "execution_count": 94
        }
      ]
    },
    {
      "cell_type": "code",
      "metadata": {
        "id": "IOx0ENRc1lQm",
        "colab_type": "code",
        "outputId": "6231e388-5d57-43b1-efd0-539cb491752d",
        "colab": {
          "base_uri": "https://localhost:8080/",
          "height": 238
        }
      },
      "source": [
        "data_tmp.info()"
      ],
      "execution_count": 95,
      "outputs": [
        {
          "output_type": "stream",
          "text": [
            "<class 'pandas.core.frame.DataFrame'>\n",
            "RangeIndex: 5 entries, 0 to 4\n",
            "Data columns (total 6 columns):\n",
            " #   Column      Non-Null Count  Dtype  \n",
            "---  ------      --------------  -----  \n",
            " 0   Unnamed: 0  5 non-null      int64  \n",
            " 1   user        5 non-null      object \n",
            " 2   rating      5 non-null      float64\n",
            " 3   comment     2 non-null      object \n",
            " 4   ID          5 non-null      int64  \n",
            " 5   name        5 non-null      object \n",
            "dtypes: float64(1), int64(2), object(3)\n",
            "memory usage: 368.0+ bytes\n"
          ],
          "name": "stdout"
        }
      ]
    },
    {
      "cell_type": "code",
      "metadata": {
        "id": "AQofUimE1UzE",
        "colab_type": "code",
        "colab": {}
      },
      "source": [
        "#Now let's set chucnk size equal to 1 million\n",
        "chunk_size = 1_000_000"
      ],
      "execution_count": 0,
      "outputs": []
    },
    {
      "cell_type": "code",
      "metadata": {
        "id": "T8UpyZ1P2KjE",
        "colab_type": "code",
        "colab": {}
      },
      "source": [
        "# Let us set the column name for our dataframe\n",
        "train_types = {'Unnamed: 0': 'int64',\n",
        "              'user': 'str', \n",
        "              'rating': 'float32',\n",
        "              'comment': 'str',\n",
        "              'ID': 'int64',\n",
        "              'name': 'str'}\n",
        "columns = list(train_types.keys())"
      ],
      "execution_count": 0,
      "outputs": []
    },
    {
      "cell_type": "code",
      "metadata": {
        "id": "Ni7FTLRX1zRt",
        "colab_type": "code",
        "outputId": "5b0c3ace-30a6-4715-bd15-02d7bff2eeb8",
        "colab": {
          "base_uri": "https://localhost:8080/",
          "height": 289
        }
      },
      "source": [
        "%%time\n",
        "data_list = [] # list to store chunks\n",
        "\n",
        "for data_chunk in tqdm(pd.read_csv(path, usecols=columns, dtype=train_types, chunksize=chunk_size)):\n",
        "  data_list.append(data_chunk)\n",
        "\n",
        "train_data_frame = pd.concat(data_list) #Here we are merging all the data frames in one\n",
        "\n",
        "del data_list # To avoid unwanted space occupation let us release data_list\n",
        "\n",
        "train_data_frame.info()  #Let's check our obtained dataframe info"
      ],
      "execution_count": 98,
      "outputs": [
        {
          "output_type": "stream",
          "text": [
            "14it [00:18,  1.31s/it]\n"
          ],
          "name": "stderr"
        },
        {
          "output_type": "stream",
          "text": [
            "<class 'pandas.core.frame.DataFrame'>\n",
            "RangeIndex: 13170073 entries, 0 to 13170072\n",
            "Data columns (total 6 columns):\n",
            " #   Column      Dtype  \n",
            "---  ------      -----  \n",
            " 0   Unnamed: 0  int64  \n",
            " 1   user        object \n",
            " 2   rating      float32\n",
            " 3   comment     object \n",
            " 4   ID          int64  \n",
            " 5   name        object \n",
            "dtypes: float32(1), int64(2), object(3)\n",
            "memory usage: 552.6+ MB\n",
            "CPU times: user 22.1 s, sys: 1.37 s, total: 23.5 s\n",
            "Wall time: 24.1 s\n"
          ],
          "name": "stdout"
        }
      ]
    },
    {
      "cell_type": "code",
      "metadata": {
        "id": "L81-rX9d5Lcc",
        "colab_type": "code",
        "outputId": "9d46f5df-769a-4691-de94-99cda4a0df53",
        "colab": {
          "base_uri": "https://localhost:8080/",
          "height": 391
        }
      },
      "source": [
        "display(train_data_frame.head())\n",
        "display(train_data_frame.tail())"
      ],
      "execution_count": 99,
      "outputs": [
        {
          "output_type": "display_data",
          "data": {
            "text/html": [
              "<div>\n",
              "<style scoped>\n",
              "    .dataframe tbody tr th:only-of-type {\n",
              "        vertical-align: middle;\n",
              "    }\n",
              "\n",
              "    .dataframe tbody tr th {\n",
              "        vertical-align: top;\n",
              "    }\n",
              "\n",
              "    .dataframe thead th {\n",
              "        text-align: right;\n",
              "    }\n",
              "</style>\n",
              "<table border=\"1\" class=\"dataframe\">\n",
              "  <thead>\n",
              "    <tr style=\"text-align: right;\">\n",
              "      <th></th>\n",
              "      <th>Unnamed: 0</th>\n",
              "      <th>user</th>\n",
              "      <th>rating</th>\n",
              "      <th>comment</th>\n",
              "      <th>ID</th>\n",
              "      <th>name</th>\n",
              "    </tr>\n",
              "  </thead>\n",
              "  <tbody>\n",
              "    <tr>\n",
              "      <th>0</th>\n",
              "      <td>0</td>\n",
              "      <td>sidehacker</td>\n",
              "      <td>10.0</td>\n",
              "      <td>NaN</td>\n",
              "      <td>13</td>\n",
              "      <td>Catan</td>\n",
              "    </tr>\n",
              "    <tr>\n",
              "      <th>1</th>\n",
              "      <td>1</td>\n",
              "      <td>Varthlokkur</td>\n",
              "      <td>10.0</td>\n",
              "      <td>NaN</td>\n",
              "      <td>13</td>\n",
              "      <td>Catan</td>\n",
              "    </tr>\n",
              "    <tr>\n",
              "      <th>2</th>\n",
              "      <td>2</td>\n",
              "      <td>dougthonus</td>\n",
              "      <td>10.0</td>\n",
              "      <td>Currently, this sits on my list as my favorite...</td>\n",
              "      <td>13</td>\n",
              "      <td>Catan</td>\n",
              "    </tr>\n",
              "    <tr>\n",
              "      <th>3</th>\n",
              "      <td>3</td>\n",
              "      <td>cypar7</td>\n",
              "      <td>10.0</td>\n",
              "      <td>I know it says how many plays, but many, many ...</td>\n",
              "      <td>13</td>\n",
              "      <td>Catan</td>\n",
              "    </tr>\n",
              "    <tr>\n",
              "      <th>4</th>\n",
              "      <td>4</td>\n",
              "      <td>ssmooth</td>\n",
              "      <td>10.0</td>\n",
              "      <td>NaN</td>\n",
              "      <td>13</td>\n",
              "      <td>Catan</td>\n",
              "    </tr>\n",
              "  </tbody>\n",
              "</table>\n",
              "</div>"
            ],
            "text/plain": [
              "   Unnamed: 0         user  ...  ID   name\n",
              "0           0   sidehacker  ...  13  Catan\n",
              "1           1  Varthlokkur  ...  13  Catan\n",
              "2           2   dougthonus  ...  13  Catan\n",
              "3           3       cypar7  ...  13  Catan\n",
              "4           4      ssmooth  ...  13  Catan\n",
              "\n",
              "[5 rows x 6 columns]"
            ]
          },
          "metadata": {
            "tags": []
          }
        },
        {
          "output_type": "display_data",
          "data": {
            "text/html": [
              "<div>\n",
              "<style scoped>\n",
              "    .dataframe tbody tr th:only-of-type {\n",
              "        vertical-align: middle;\n",
              "    }\n",
              "\n",
              "    .dataframe tbody tr th {\n",
              "        vertical-align: top;\n",
              "    }\n",
              "\n",
              "    .dataframe thead th {\n",
              "        text-align: right;\n",
              "    }\n",
              "</style>\n",
              "<table border=\"1\" class=\"dataframe\">\n",
              "  <thead>\n",
              "    <tr style=\"text-align: right;\">\n",
              "      <th></th>\n",
              "      <th>Unnamed: 0</th>\n",
              "      <th>user</th>\n",
              "      <th>rating</th>\n",
              "      <th>comment</th>\n",
              "      <th>ID</th>\n",
              "      <th>name</th>\n",
              "    </tr>\n",
              "  </thead>\n",
              "  <tbody>\n",
              "    <tr>\n",
              "      <th>13170068</th>\n",
              "      <td>3356495</td>\n",
              "      <td>pswissler</td>\n",
              "      <td>3.0</td>\n",
              "      <td>NaN</td>\n",
              "      <td>8256</td>\n",
              "      <td>LEGO Constructionary Game</td>\n",
              "    </tr>\n",
              "    <tr>\n",
              "      <th>13170069</th>\n",
              "      <td>3356496</td>\n",
              "      <td>Sprayoncrayon</td>\n",
              "      <td>3.0</td>\n",
              "      <td>Lego created a version of Pictionary, only you...</td>\n",
              "      <td>8256</td>\n",
              "      <td>LEGO Constructionary Game</td>\n",
              "    </tr>\n",
              "    <tr>\n",
              "      <th>13170070</th>\n",
              "      <td>3356497</td>\n",
              "      <td>PhoenixSong</td>\n",
              "      <td>2.5</td>\n",
              "      <td>This game is very similar to Creationary. It c...</td>\n",
              "      <td>8256</td>\n",
              "      <td>LEGO Constructionary Game</td>\n",
              "    </tr>\n",
              "    <tr>\n",
              "      <th>13170071</th>\n",
              "      <td>3356498</td>\n",
              "      <td>tsantos</td>\n",
              "      <td>2.0</td>\n",
              "      <td>This game was really bad.  Worst that I've pla...</td>\n",
              "      <td>8256</td>\n",
              "      <td>LEGO Constructionary Game</td>\n",
              "    </tr>\n",
              "    <tr>\n",
              "      <th>13170072</th>\n",
              "      <td>3356499</td>\n",
              "      <td>Mighty Florist</td>\n",
              "      <td>2.0</td>\n",
              "      <td>NaN</td>\n",
              "      <td>8256</td>\n",
              "      <td>LEGO Constructionary Game</td>\n",
              "    </tr>\n",
              "  </tbody>\n",
              "</table>\n",
              "</div>"
            ],
            "text/plain": [
              "          Unnamed: 0            user  ...    ID                       name\n",
              "13170068     3356495       pswissler  ...  8256  LEGO Constructionary Game\n",
              "13170069     3356496   Sprayoncrayon  ...  8256  LEGO Constructionary Game\n",
              "13170070     3356497     PhoenixSong  ...  8256  LEGO Constructionary Game\n",
              "13170071     3356498         tsantos  ...  8256  LEGO Constructionary Game\n",
              "13170072     3356499  Mighty Florist  ...  8256  LEGO Constructionary Game\n",
              "\n",
              "[5 rows x 6 columns]"
            ]
          },
          "metadata": {
            "tags": []
          }
        }
      ]
    },
    {
      "cell_type": "markdown",
      "metadata": {
        "id": "NGccFb2b-GuT",
        "colab_type": "text"
      },
      "source": [
        "B. Try fetching data using Dataset"
      ]
    },
    {
      "cell_type": "code",
      "metadata": {
        "id": "E20xAsNt-NaN",
        "colab_type": "code",
        "colab": {}
      },
      "source": [
        "#read data using dataset\n",
        "dataset_df = dd.read_csv(path, usecols=columns, dtype=train_types)"
      ],
      "execution_count": 0,
      "outputs": []
    },
    {
      "cell_type": "code",
      "metadata": {
        "id": "7LE5aEUW-mbt",
        "colab_type": "code",
        "outputId": "a5826aa3-b426-4a04-baa7-7c4adabe9890",
        "colab": {
          "base_uri": "https://localhost:8080/",
          "height": 295
        }
      },
      "source": [
        "print('Dataset Dataframe info:\\n')\n",
        "dataset_df.info() # get the info of dataset dataframe\n",
        "print(\"\\n\")\n",
        "print(\"Dataset Dataframe describe:\")\n",
        "dataset_df.describe() # try describing dataset dataframe"
      ],
      "execution_count": 101,
      "outputs": [
        {
          "output_type": "stream",
          "text": [
            "Dataset Dataframe info:\n",
            "\n",
            "<class 'dask.dataframe.core.DataFrame'>\n",
            "Columns: 6 entries, Unnamed: 0 to name\n",
            "dtypes: object(3), float32(1), int64(2)\n",
            "\n",
            "Dataset Dataframe describe:\n"
          ],
          "name": "stdout"
        },
        {
          "output_type": "execute_result",
          "data": {
            "text/html": [
              "<div><strong>Dask DataFrame Structure:</strong></div>\n",
              "<div>\n",
              "<style scoped>\n",
              "    .dataframe tbody tr th:only-of-type {\n",
              "        vertical-align: middle;\n",
              "    }\n",
              "\n",
              "    .dataframe tbody tr th {\n",
              "        vertical-align: top;\n",
              "    }\n",
              "\n",
              "    .dataframe thead th {\n",
              "        text-align: right;\n",
              "    }\n",
              "</style>\n",
              "<table border=\"1\" class=\"dataframe\">\n",
              "  <thead>\n",
              "    <tr style=\"text-align: right;\">\n",
              "      <th></th>\n",
              "      <th>Unnamed: 0</th>\n",
              "      <th>rating</th>\n",
              "      <th>ID</th>\n",
              "    </tr>\n",
              "    <tr>\n",
              "      <th>npartitions=1</th>\n",
              "      <th></th>\n",
              "      <th></th>\n",
              "      <th></th>\n",
              "    </tr>\n",
              "  </thead>\n",
              "  <tbody>\n",
              "    <tr>\n",
              "      <th></th>\n",
              "      <td>float64</td>\n",
              "      <td>float64</td>\n",
              "      <td>float64</td>\n",
              "    </tr>\n",
              "    <tr>\n",
              "      <th></th>\n",
              "      <td>...</td>\n",
              "      <td>...</td>\n",
              "      <td>...</td>\n",
              "    </tr>\n",
              "  </tbody>\n",
              "</table>\n",
              "</div>\n",
              "<div>Dask Name: describe-numeric, 400 tasks</div>"
            ],
            "text/plain": [
              "Dask DataFrame Structure:\n",
              "              Unnamed: 0   rating       ID\n",
              "npartitions=1                             \n",
              "                 float64  float64  float64\n",
              "                     ...      ...      ...\n",
              "Dask Name: describe-numeric, 400 tasks"
            ]
          },
          "metadata": {
            "tags": []
          },
          "execution_count": 101
        }
      ]
    },
    {
      "cell_type": "code",
      "metadata": {
        "id": "F_wAybeZ_pt8",
        "colab_type": "code",
        "outputId": "a76a8caf-d5da-4fea-b3ad-7a6b9bfbcd67",
        "colab": {
          "base_uri": "https://localhost:8080/",
          "height": 331
        }
      },
      "source": [
        "%%time\n",
        "dataset_df.describe().compute()"
      ],
      "execution_count": 102,
      "outputs": [
        {
          "output_type": "stream",
          "text": [
            "CPU times: user 26.8 s, sys: 1.64 s, total: 28.5 s\n",
            "Wall time: 16.6 s\n"
          ],
          "name": "stdout"
        },
        {
          "output_type": "execute_result",
          "data": {
            "text/html": [
              "<div>\n",
              "<style scoped>\n",
              "    .dataframe tbody tr th:only-of-type {\n",
              "        vertical-align: middle;\n",
              "    }\n",
              "\n",
              "    .dataframe tbody tr th {\n",
              "        vertical-align: top;\n",
              "    }\n",
              "\n",
              "    .dataframe thead th {\n",
              "        text-align: right;\n",
              "    }\n",
              "</style>\n",
              "<table border=\"1\" class=\"dataframe\">\n",
              "  <thead>\n",
              "    <tr style=\"text-align: right;\">\n",
              "      <th></th>\n",
              "      <th>Unnamed: 0</th>\n",
              "      <th>rating</th>\n",
              "      <th>ID</th>\n",
              "    </tr>\n",
              "  </thead>\n",
              "  <tbody>\n",
              "    <tr>\n",
              "      <th>count</th>\n",
              "      <td>1.317007e+07</td>\n",
              "      <td>1.317007e+07</td>\n",
              "      <td>1.317007e+07</td>\n",
              "    </tr>\n",
              "    <tr>\n",
              "      <th>mean</th>\n",
              "      <td>4.112157e+06</td>\n",
              "      <td>7.023914e+00</td>\n",
              "      <td>8.143371e+04</td>\n",
              "    </tr>\n",
              "    <tr>\n",
              "      <th>std</th>\n",
              "      <td>2.881375e+06</td>\n",
              "      <td>1.602762e+00</td>\n",
              "      <td>7.604141e+04</td>\n",
              "    </tr>\n",
              "    <tr>\n",
              "      <th>min</th>\n",
              "      <td>0.000000e+00</td>\n",
              "      <td>1.401298e-45</td>\n",
              "      <td>1.000000e+00</td>\n",
              "    </tr>\n",
              "    <tr>\n",
              "      <th>25%</th>\n",
              "      <td>2.055942e+06</td>\n",
              "      <td>7.000000e+00</td>\n",
              "      <td>2.055100e+04</td>\n",
              "    </tr>\n",
              "    <tr>\n",
              "      <th>50%</th>\n",
              "      <td>5.269815e+06</td>\n",
              "      <td>7.500000e+00</td>\n",
              "      <td>7.091900e+04</td>\n",
              "    </tr>\n",
              "    <tr>\n",
              "      <th>75%</th>\n",
              "      <td>9.678841e+06</td>\n",
              "      <td>9.000000e+00</td>\n",
              "      <td>1.655590e+05</td>\n",
              "    </tr>\n",
              "    <tr>\n",
              "      <th>max</th>\n",
              "      <td>9.871082e+06</td>\n",
              "      <td>1.000000e+01</td>\n",
              "      <td>2.724090e+05</td>\n",
              "    </tr>\n",
              "  </tbody>\n",
              "</table>\n",
              "</div>"
            ],
            "text/plain": [
              "         Unnamed: 0        rating            ID\n",
              "count  1.317007e+07  1.317007e+07  1.317007e+07\n",
              "mean   4.112157e+06  7.023914e+00  8.143371e+04\n",
              "std    2.881375e+06  1.602762e+00  7.604141e+04\n",
              "min    0.000000e+00  1.401298e-45  1.000000e+00\n",
              "25%    2.055942e+06  7.000000e+00  2.055100e+04\n",
              "50%    5.269815e+06  7.500000e+00  7.091900e+04\n",
              "75%    9.678841e+06  9.000000e+00  1.655590e+05\n",
              "max    9.871082e+06  1.000000e+01  2.724090e+05"
            ]
          },
          "metadata": {
            "tags": []
          },
          "execution_count": 102
        }
      ]
    },
    {
      "cell_type": "code",
      "metadata": {
        "id": "z_gWMDr0AEsv",
        "colab_type": "code",
        "outputId": "592e60e7-b443-4980-ac02-e0add4ecd95f",
        "colab": {
          "base_uri": "https://localhost:8080/",
          "height": 68
        }
      },
      "source": [
        "%%time\n",
        "len(dataset_df)"
      ],
      "execution_count": 103,
      "outputs": [
        {
          "output_type": "stream",
          "text": [
            "CPU times: user 23.4 s, sys: 1.3 s, total: 24.7 s\n",
            "Wall time: 15 s\n"
          ],
          "name": "stdout"
        },
        {
          "output_type": "execute_result",
          "data": {
            "text/plain": [
              "13170073"
            ]
          },
          "metadata": {
            "tags": []
          },
          "execution_count": 103
        }
      ]
    },
    {
      "cell_type": "markdown",
      "metadata": {
        "id": "HIdvWY-nLGdd",
        "colab_type": "text"
      },
      "source": [
        "C. Try fetching data using PySpark"
      ]
    },
    {
      "cell_type": "code",
      "metadata": {
        "id": "YFcwZiAOLRVn",
        "colab_type": "code",
        "outputId": "478be829-1b9f-49d5-ac28-9a51f538c49b",
        "colab": {
          "base_uri": "https://localhost:8080/",
          "height": 51
        }
      },
      "source": [
        "%%time\n",
        "sc = SparkContext.getOrCreate()\n",
        "spark = SparkSession(sc)\n",
        "pys_df=spark.read.csv(\"file:\"+path,inferSchema=True,header=True)"
      ],
      "execution_count": 104,
      "outputs": [
        {
          "output_type": "stream",
          "text": [
            "CPU times: user 23.7 ms, sys: 2.36 ms, total: 26.1 ms\n",
            "Wall time: 17 s\n"
          ],
          "name": "stdout"
        }
      ]
    },
    {
      "cell_type": "code",
      "metadata": {
        "id": "2Besk1qROnfo",
        "colab_type": "code",
        "outputId": "6df30229-15a5-4d0e-b085-0de0b6372e5c",
        "colab": {
          "base_uri": "https://localhost:8080/",
          "height": 289
        }
      },
      "source": [
        "pys_df.show(n=10)"
      ],
      "execution_count": 105,
      "outputs": [
        {
          "output_type": "stream",
          "text": [
            "+---+-----------+------+--------------------+---+-----+\n",
            "|_c0|       user|rating|             comment| ID| name|\n",
            "+---+-----------+------+--------------------+---+-----+\n",
            "|  0| sidehacker|  10.0|                null| 13|Catan|\n",
            "|  1|Varthlokkur|  10.0|                null| 13|Catan|\n",
            "|  2| dougthonus|  10.0|Currently, this s...| 13|Catan|\n",
            "|  3|     cypar7|  10.0|I know it says ho...| 13|Catan|\n",
            "|  4|    ssmooth|  10.0|                null| 13|Catan|\n",
            "|  5|   Halloran|  10.0|                null| 13|Catan|\n",
            "|  6|      isamu|  10.0|                null| 13|Catan|\n",
            "|  7|    hreimer|  10.0|i will never tire...| 13|Catan|\n",
            "|  8|   ericgorr|  10.0|                null| 13|Catan|\n",
            "|  9|      butch|  10.0|                null| 13|Catan|\n",
            "+---+-----------+------+--------------------+---+-----+\n",
            "only showing top 10 rows\n",
            "\n"
          ],
          "name": "stdout"
        }
      ]
    },
    {
      "cell_type": "code",
      "metadata": {
        "id": "xiz0kf0AQ-bz",
        "colab_type": "code",
        "outputId": "1d1736a2-de99-413f-f43f-901e0e6fc2c7",
        "colab": {
          "base_uri": "https://localhost:8080/",
          "height": 153
        }
      },
      "source": [
        "pys_df.printSchema()"
      ],
      "execution_count": 106,
      "outputs": [
        {
          "output_type": "stream",
          "text": [
            "root\n",
            " |-- _c0: integer (nullable = true)\n",
            " |-- user: string (nullable = true)\n",
            " |-- rating: double (nullable = true)\n",
            " |-- comment: string (nullable = true)\n",
            " |-- ID: string (nullable = true)\n",
            " |-- name: string (nullable = true)\n",
            "\n"
          ],
          "name": "stdout"
        }
      ]
    },
    {
      "cell_type": "markdown",
      "metadata": {
        "id": "0rpiLahQUo_3",
        "colab_type": "text"
      },
      "source": [
        "We have tried 3 methods chuncks, dask, pyshark to fetch data and it seems all the 3 methods take approx similar time to read csv. However, method A i.e chunks was more time efficient compare to other two methods. And Chunks method seemed more easy to use to too. So we are going to go with that method."
      ]
    },
    {
      "cell_type": "code",
      "metadata": {
        "id": "O46HjZQiVarW",
        "colab_type": "code",
        "colab": {}
      },
      "source": [
        "del pys_df #release pys_df variable from memory"
      ],
      "execution_count": 0,
      "outputs": []
    },
    {
      "cell_type": "markdown",
      "metadata": {
        "id": "kbuznfBaY0zJ",
        "colab_type": "text"
      },
      "source": [
        "We are going to use **feather** to store dataframe and using it is easy to use and read.</br>\n",
        "Here is the link to other dataframe storing formats: https://towardsdatascience.com/the-best-format-to-save-pandas-data-414dca023e0d\n"
      ]
    },
    {
      "cell_type": "code",
      "metadata": {
        "id": "W9X1tCfSZdKy",
        "colab_type": "code",
        "outputId": "3b20b0a7-f78b-472a-c40c-fabb6ad18197",
        "colab": {
          "base_uri": "https://localhost:8080/",
          "height": 204
        }
      },
      "source": [
        "train_data_frame.to_feather('movie_data_raw.feather')# storing pandas dataframe into movie_data_raw feather format\n",
        "train_df_n = pd.read_feather('movie_data_raw.feather')# store dataframe from movie_data_raw feather format\n",
        "train_df_n.head()"
      ],
      "execution_count": 108,
      "outputs": [
        {
          "output_type": "execute_result",
          "data": {
            "text/html": [
              "<div>\n",
              "<style scoped>\n",
              "    .dataframe tbody tr th:only-of-type {\n",
              "        vertical-align: middle;\n",
              "    }\n",
              "\n",
              "    .dataframe tbody tr th {\n",
              "        vertical-align: top;\n",
              "    }\n",
              "\n",
              "    .dataframe thead th {\n",
              "        text-align: right;\n",
              "    }\n",
              "</style>\n",
              "<table border=\"1\" class=\"dataframe\">\n",
              "  <thead>\n",
              "    <tr style=\"text-align: right;\">\n",
              "      <th></th>\n",
              "      <th>Unnamed: 0</th>\n",
              "      <th>user</th>\n",
              "      <th>rating</th>\n",
              "      <th>comment</th>\n",
              "      <th>ID</th>\n",
              "      <th>name</th>\n",
              "    </tr>\n",
              "  </thead>\n",
              "  <tbody>\n",
              "    <tr>\n",
              "      <th>0</th>\n",
              "      <td>0</td>\n",
              "      <td>sidehacker</td>\n",
              "      <td>10.0</td>\n",
              "      <td>None</td>\n",
              "      <td>13</td>\n",
              "      <td>Catan</td>\n",
              "    </tr>\n",
              "    <tr>\n",
              "      <th>1</th>\n",
              "      <td>1</td>\n",
              "      <td>Varthlokkur</td>\n",
              "      <td>10.0</td>\n",
              "      <td>None</td>\n",
              "      <td>13</td>\n",
              "      <td>Catan</td>\n",
              "    </tr>\n",
              "    <tr>\n",
              "      <th>2</th>\n",
              "      <td>2</td>\n",
              "      <td>dougthonus</td>\n",
              "      <td>10.0</td>\n",
              "      <td>Currently, this sits on my list as my favorite...</td>\n",
              "      <td>13</td>\n",
              "      <td>Catan</td>\n",
              "    </tr>\n",
              "    <tr>\n",
              "      <th>3</th>\n",
              "      <td>3</td>\n",
              "      <td>cypar7</td>\n",
              "      <td>10.0</td>\n",
              "      <td>I know it says how many plays, but many, many ...</td>\n",
              "      <td>13</td>\n",
              "      <td>Catan</td>\n",
              "    </tr>\n",
              "    <tr>\n",
              "      <th>4</th>\n",
              "      <td>4</td>\n",
              "      <td>ssmooth</td>\n",
              "      <td>10.0</td>\n",
              "      <td>None</td>\n",
              "      <td>13</td>\n",
              "      <td>Catan</td>\n",
              "    </tr>\n",
              "  </tbody>\n",
              "</table>\n",
              "</div>"
            ],
            "text/plain": [
              "   Unnamed: 0         user  ...  ID   name\n",
              "0           0   sidehacker  ...  13  Catan\n",
              "1           1  Varthlokkur  ...  13  Catan\n",
              "2           2   dougthonus  ...  13  Catan\n",
              "3           3       cypar7  ...  13  Catan\n",
              "4           4      ssmooth  ...  13  Catan\n",
              "\n",
              "[5 rows x 6 columns]"
            ]
          },
          "metadata": {
            "tags": []
          },
          "execution_count": 108
        }
      ]
    },
    {
      "cell_type": "markdown",
      "metadata": {
        "id": "mjxyLkqsalO6",
        "colab_type": "text"
      },
      "source": [
        "# 2.Data Cleaning and Exploration"
      ]
    },
    {
      "cell_type": "markdown",
      "metadata": {
        "id": "CHuJwH3Ua1gi",
        "colab_type": "text"
      },
      "source": [
        "In our dataframe col 1 and 2 that is unnamed index and user won't be of our use in future prediction of rating from comment so we will remove them from our dataframe."
      ]
    },
    {
      "cell_type": "code",
      "metadata": {
        "id": "C-TfzRL_askp",
        "colab_type": "code",
        "colab": {}
      },
      "source": [
        "train_df_n = train_df_n.drop(['Unnamed: 0','user'], axis=1)"
      ],
      "execution_count": 0,
      "outputs": []
    },
    {
      "cell_type": "code",
      "metadata": {
        "id": "0HLXz5pvbfzO",
        "colab_type": "code",
        "outputId": "3e69d606-5fc6-4ae4-dd79-2401a15335f1",
        "colab": {
          "base_uri": "https://localhost:8080/",
          "height": 204
        }
      },
      "source": [
        "train_df_n.head()"
      ],
      "execution_count": 110,
      "outputs": [
        {
          "output_type": "execute_result",
          "data": {
            "text/html": [
              "<div>\n",
              "<style scoped>\n",
              "    .dataframe tbody tr th:only-of-type {\n",
              "        vertical-align: middle;\n",
              "    }\n",
              "\n",
              "    .dataframe tbody tr th {\n",
              "        vertical-align: top;\n",
              "    }\n",
              "\n",
              "    .dataframe thead th {\n",
              "        text-align: right;\n",
              "    }\n",
              "</style>\n",
              "<table border=\"1\" class=\"dataframe\">\n",
              "  <thead>\n",
              "    <tr style=\"text-align: right;\">\n",
              "      <th></th>\n",
              "      <th>rating</th>\n",
              "      <th>comment</th>\n",
              "      <th>ID</th>\n",
              "      <th>name</th>\n",
              "    </tr>\n",
              "  </thead>\n",
              "  <tbody>\n",
              "    <tr>\n",
              "      <th>0</th>\n",
              "      <td>10.0</td>\n",
              "      <td>None</td>\n",
              "      <td>13</td>\n",
              "      <td>Catan</td>\n",
              "    </tr>\n",
              "    <tr>\n",
              "      <th>1</th>\n",
              "      <td>10.0</td>\n",
              "      <td>None</td>\n",
              "      <td>13</td>\n",
              "      <td>Catan</td>\n",
              "    </tr>\n",
              "    <tr>\n",
              "      <th>2</th>\n",
              "      <td>10.0</td>\n",
              "      <td>Currently, this sits on my list as my favorite...</td>\n",
              "      <td>13</td>\n",
              "      <td>Catan</td>\n",
              "    </tr>\n",
              "    <tr>\n",
              "      <th>3</th>\n",
              "      <td>10.0</td>\n",
              "      <td>I know it says how many plays, but many, many ...</td>\n",
              "      <td>13</td>\n",
              "      <td>Catan</td>\n",
              "    </tr>\n",
              "    <tr>\n",
              "      <th>4</th>\n",
              "      <td>10.0</td>\n",
              "      <td>None</td>\n",
              "      <td>13</td>\n",
              "      <td>Catan</td>\n",
              "    </tr>\n",
              "  </tbody>\n",
              "</table>\n",
              "</div>"
            ],
            "text/plain": [
              "   rating                                            comment  ID   name\n",
              "0    10.0                                               None  13  Catan\n",
              "1    10.0                                               None  13  Catan\n",
              "2    10.0  Currently, this sits on my list as my favorite...  13  Catan\n",
              "3    10.0  I know it says how many plays, but many, many ...  13  Catan\n",
              "4    10.0                                               None  13  Catan"
            ]
          },
          "metadata": {
            "tags": []
          },
          "execution_count": 110
        }
      ]
    },
    {
      "cell_type": "markdown",
      "metadata": {
        "id": "Ui4uRLhcb1n9",
        "colab_type": "text"
      },
      "source": [
        "We have movie names let us check if it could be any help for our predict or not."
      ]
    },
    {
      "cell_type": "code",
      "metadata": {
        "id": "8cgiyyAEb94g",
        "colab_type": "code",
        "outputId": "52de781f-8d62-4051-dae2-c161e7e6d83b",
        "colab": {
          "base_uri": "https://localhost:8080/",
          "height": 255
        }
      },
      "source": [
        "#check total unique movie in the dataset\n",
        "movies=train_df_n.name.value_counts()\n",
        "print(movies)\n",
        "print(\"\\nTotal distinct movies in list: \"+str(len(movies)))"
      ],
      "execution_count": 111,
      "outputs": [
        {
          "output_type": "stream",
          "text": [
            "Catan                                                84498\n",
            "Carcassonne                                          84464\n",
            "Pandemic                                             82816\n",
            "7 Wonders                                            68614\n",
            "Dominion                                             67955\n",
            "                                                     ...  \n",
            "Arnhem '44: The Operation Market Garden Boardgame       30\n",
            "Crusader: Battle for Tobruk                             30\n",
            "Photofinish: The Final Rush                             30\n",
            "Hatalom Kártyái Kártyajáték                             30\n",
            "Bushido Breaker                                         29\n",
            "Name: name, Length: 16735, dtype: int64\n",
            "\n",
            "Total distinct movies in list: 16735\n"
          ],
          "name": "stdout"
        }
      ]
    },
    {
      "cell_type": "code",
      "metadata": {
        "id": "cWlP2f4bi1do",
        "colab_type": "code",
        "colab": {}
      },
      "source": [
        "train_df_n = train_df_n.drop(['ID','name'], axis=1)"
      ],
      "execution_count": 0,
      "outputs": []
    },
    {
      "cell_type": "code",
      "metadata": {
        "id": "nOobBx7MdKZG",
        "colab_type": "code",
        "outputId": "8e7a6b7d-42f7-4b2c-9a64-ae21b93e614c",
        "colab": {
          "base_uri": "https://localhost:8080/",
          "height": 34
        }
      },
      "source": [
        "count_null_c=train_df_n['comment'].isnull().sum()\n",
        "print(\"Total records with no comments: \"+str(count_null_c))"
      ],
      "execution_count": 113,
      "outputs": [
        {
          "output_type": "stream",
          "text": [
            "Total records with no comments: 10532317\n"
          ],
          "name": "stdout"
        }
      ]
    },
    {
      "cell_type": "markdown",
      "metadata": {
        "id": "JwBCLZ7UdXUP",
        "colab_type": "text"
      },
      "source": [
        "We have too much empty comment records and it won't be of use to us so we can remove those records with empty comments"
      ]
    },
    {
      "cell_type": "code",
      "metadata": {
        "id": "mKajUw-0foKb",
        "colab_type": "code",
        "colab": {}
      },
      "source": [
        "train_df_n.dropna(inplace=True)"
      ],
      "execution_count": 0,
      "outputs": []
    },
    {
      "cell_type": "code",
      "metadata": {
        "id": "z9GWKtA7f500",
        "colab_type": "code",
        "outputId": "259b8350-d49d-47e3-f0e3-bcc70da1ce21",
        "colab": {
          "base_uri": "https://localhost:8080/",
          "height": 68
        }
      },
      "source": [
        "#to confirm let us check if we will have any null values in comments or ratings\n",
        "count_null_c=train_df_n['comment'].isnull().sum()\n",
        "count_null_r=train_df_n['rating'].isnull().sum()\n",
        "print(\"Total records with no comments: \"+str(count_null_c))\n",
        "print(\"\\nTotal records with no ratings: \"+str(count_null_r))"
      ],
      "execution_count": 115,
      "outputs": [
        {
          "output_type": "stream",
          "text": [
            "Total records with no comments: 0\n",
            "\n",
            "Total records with no ratings: 0\n"
          ],
          "name": "stdout"
        }
      ]
    },
    {
      "cell_type": "markdown",
      "metadata": {
        "id": "WfDgkn2hgWtZ",
        "colab_type": "text"
      },
      "source": [
        "We can explore which rating has the most comments"
      ]
    },
    {
      "cell_type": "code",
      "metadata": {
        "id": "Xl3dwNxqkykx",
        "colab_type": "code",
        "outputId": "2276cce9-5970-40d0-947e-cb5308964465",
        "colab": {
          "base_uri": "https://localhost:8080/",
          "height": 494
        }
      },
      "source": [
        "fig= plt.figure(figsize=(9,6))\n",
        "ax = fig.add_axes([0,0,1,1])\n",
        "ratings = [1.0,2.0,3.0,4.0,5.0,6.0,7.0,8.0,9.0,10.0]\n",
        "comments_per_rating = []\n",
        "for i in range(len(ratings)):\n",
        "  comments_per_rating.append(train_df_n.rating.value_counts()[ratings[i]])\n",
        "ax.bar(ratings,comments_per_rating)\n",
        "ax.set_xlabel(\"Ratings\")\n",
        "ax.set_ylabel(\"Comments Count\")\n",
        "plt.show()"
      ],
      "execution_count": 116,
      "outputs": [
        {
          "output_type": "display_data",
          "data": {
            "image/png": "[encoded data removed]",
            "text/plain": [
              "<Figure size 648x432 with 1 Axes>"
            ]
          },
          "metadata": {
            "tags": [],
            "needs_background": "light"
          }
        }
      ]
    },
    {
      "cell_type": "markdown",
      "metadata": {
        "id": "qi8qZX-wwLXI",
        "colab_type": "text"
      },
      "source": [
        "Thus it can be seen from the figure, the count of comments for rating 7 is the highest whereas there very few comments with rating 1"
      ]
    },
    {
      "cell_type": "markdown",
      "metadata": {
        "id": "QaeOvtZPyqql",
        "colab_type": "text"
      },
      "source": [
        "Now we can start cleaning the text. Comment will have same words in upper and lower case, it will have unwanted punctuations, html tags, unwanted space. So we need to deal with such comments and want our comments in same format.\n",
        "\n"
      ]
    },
    {
      "cell_type": "code",
      "metadata": {
        "id": "Id58rIhW77tr",
        "colab_type": "code",
        "colab": {}
      },
      "source": [
        "train_df_n.tail()\n",
        "train_na = train_df_n.to_numpy()"
      ],
      "execution_count": 0,
      "outputs": []
    },
    {
      "cell_type": "code",
      "metadata": {
        "id": "VkRav_qyI-Bh",
        "colab_type": "code",
        "outputId": "796a89f4-4b59-42da-baf2-cd5e2f5e824a",
        "colab": {
          "base_uri": "https://localhost:8080/",
          "height": 34
        }
      },
      "source": [
        "print(train_na[3][1])"
      ],
      "execution_count": 118,
      "outputs": [
        {
          "output_type": "stream",
          "text": [
            "This is probably the best game I ever played.  Requires more than just thinking; develops negotiation skills\n"
          ],
          "name": "stdout"
        }
      ]
    },
    {
      "cell_type": "code",
      "metadata": {
        "id": "AvZg3QAEwkQb",
        "colab_type": "code",
        "colab": {}
      },
      "source": [
        "for x in range(len(train_na[:,1])):\n",
        "  txt=str(train_na[x][1])\n",
        "  html_tags=re.compile('<.*?>');\n",
        "  txt=re.sub(html_tags, '', txt);#remove html tags\n",
        "  txt=re.sub(r\"[^a-zA-Z0-9']+\", ' ', txt);#just keep chars and number and remove rest all punctions\n",
        "  txt=txt.lower()#convert to lower case\n",
        "  txt = ' '.join([w for w in str(txt).split() if w not in (stop)])#remove stop words\n",
        "  train_na[x][1]=txt"
      ],
      "execution_count": 0,
      "outputs": []
    },
    {
      "cell_type": "code",
      "metadata": {
        "id": "NKXu_7kh0qPT",
        "colab_type": "code",
        "outputId": "1f22706d-bf00-4727-ae9c-0cad46fd5678",
        "colab": {
          "base_uri": "https://localhost:8080/",
          "height": 34
        }
      },
      "source": [
        "print(train_na[3][1])"
      ],
      "execution_count": 120,
      "outputs": [
        {
          "output_type": "stream",
          "text": [
            "probably best game ever played requires thinking develops negotiation skills\n"
          ],
          "name": "stdout"
        }
      ]
    },
    {
      "cell_type": "markdown",
      "metadata": {
        "id": "VblVk7pujhJu",
        "colab_type": "text"
      },
      "source": [
        "Random shuffle the records"
      ]
    },
    {
      "cell_type": "code",
      "metadata": {
        "id": "QhTUbF6ajfxK",
        "colab_type": "code",
        "colab": {}
      },
      "source": [
        "np.random.shuffle(train_na)"
      ],
      "execution_count": 0,
      "outputs": []
    },
    {
      "cell_type": "code",
      "metadata": {
        "id": "u5tUkYTnjpUP",
        "colab_type": "code",
        "outputId": "68ecd71e-851d-45d5-fd02-6dd43361fd50",
        "colab": {
          "base_uri": "https://localhost:8080/",
          "height": 34
        }
      },
      "source": [
        "print(train_na[3][1])"
      ],
      "execution_count": 122,
      "outputs": [
        {
          "output_type": "stream",
          "text": [
            "kickstarter\n"
          ],
          "name": "stdout"
        }
      ]
    },
    {
      "cell_type": "markdown",
      "metadata": {
        "id": "gm21ldF7lqlB",
        "colab_type": "text"
      },
      "source": [
        "Split the data into train and test in the portion of 80 and 20 respectively."
      ]
    },
    {
      "cell_type": "code",
      "metadata": {
        "id": "1dPmo__alzIa",
        "colab_type": "code",
        "colab": {}
      },
      "source": [
        "X_train, X_test, y_train, y_test = train_test_split(train_na[:,1], train_na[:,0], test_size=0.20)"
      ],
      "execution_count": 0,
      "outputs": []
    },
    {
      "cell_type": "markdown",
      "metadata": {
        "id": "fK-4ypxYq9de",
        "colab_type": "text"
      },
      "source": [
        "# 3.Word Count- Count Vectorizer"
      ]
    },
    {
      "cell_type": "code",
      "metadata": {
        "id": "TP6dW4S8NZUW",
        "colab_type": "code",
        "outputId": "d2afb95e-d18a-428f-d17a-653c1cb9fe9b",
        "colab": {
          "base_uri": "https://localhost:8080/",
          "height": 530
        }
      },
      "source": [
        "from sklearn.feature_extraction.text import CountVectorizer\n",
        "com=X_train[0:3]\n",
        "print(com)\n",
        "vector_form=CountVectorizer()\n",
        "vector_form.fit(com)\n",
        "\n",
        "#Get the vocabulary generated\n",
        "print(\"Vocabulary for the fiven small data is: \")\n",
        "print(str(vector_form.vocabulary_)+\"\\n\")\n",
        "#Get the features generated\n",
        "print(\"Features for the fiven small data is: \")\n",
        "print(str(vector_form.get_feature_names())+\"\\n\")\n",
        "\n",
        "vector_array=vector_form.transform(com)\n",
        "\n",
        "#get the shape of the vector array generated\n",
        "print(\"Vector Array shape for the fiven small data is: \")\n",
        "print(str(vector_array.shape)+\"\\n\")\n",
        "#get the vector array generated\n",
        "print(\"Vector Array for the fiven small data is: \")\n",
        "print(str(vector_array.toarray())+\"\\n\")"
      ],
      "execution_count": 124,
      "outputs": [
        {
          "output_type": "stream",
          "text": [
            "['complaint cards small cards say tarot sized would much easier read'\n",
            " 'purchased spiel essen 2017'\n",
            " \"4 plays played game nazi's 3 times succession absolutely got asses kicked every time even close still blast fourth game figured scoring villains wrong game villains ramping power one game flew plane get temple crashed cliffhanger survived crash found car chased temple barely survived cliffhanger shot nazi henchmen made temple collapsed departed knocked cold woke disoriented home city moscow 3 turns tons events like throughout three games know game totally whack unbalanced impossible win much care great experience game i'll play rules heavy game detriment imho could wipe half rules counters combine decks cards without fundamentally changing fun game really adventure cards make game everything else accounting still worth mind seeing less version game\"]\n",
            "Vocabulary for the fiven small data is: \n",
            "{'complaint': 18, 'cards': 8, 'small': 80, 'say': 75, 'tarot': 85, 'sized': 79, 'would': 103, 'much': 62, 'easier': 27, 'read': 72, 'purchased': 70, 'spiel': 81, 'essen': 29, '2017': 0, 'plays': 68, 'played': 67, 'game': 41, 'nazi': 63, 'times': 90, 'succession': 83, 'absolutely': 1, 'got': 44, 'asses': 4, 'kicked': 52, 'every': 32, 'time': 89, 'even': 30, 'close': 14, 'still': 82, 'blast': 6, 'fourth': 38, 'figured': 35, 'scoring': 76, 'villains': 96, 'wrong': 104, 'ramping': 71, 'power': 69, 'one': 64, 'flew': 36, 'plane': 65, 'get': 43, 'temple': 86, 'crashed': 22, 'cliffhanger': 13, 'survived': 84, 'crash': 21, 'found': 37, 'car': 7, 'chased': 11, 'barely': 5, 'shot': 78, 'henchmen': 48, 'made': 58, 'collapsed': 16, 'departed': 24, 'knocked': 53, 'cold': 15, 'woke': 101, 'disoriented': 26, 'home': 49, 'city': 12, 'moscow': 61, 'turns': 93, 'tons': 91, 'events': 31, 'like': 56, 'throughout': 88, 'three': 87, 'games': 42, 'know': 54, 'totally': 92, 'whack': 97, 'unbalanced': 94, 'impossible': 51, 'win': 98, 'care': 9, 'great': 45, 'experience': 34, 'll': 57, 'play': 66, 'rules': 74, 'heavy': 47, 'detriment': 25, 'imho': 50, 'could': 19, 'wipe': 99, 'half': 46, 'counters': 20, 'combine': 17, 'decks': 23, 'without': 100, 'fundamentally': 40, 'changing': 10, 'fun': 39, 'really': 73, 'adventure': 3, 'make': 59, 'everything': 33, 'else': 28, 'accounting': 2, 'worth': 102, 'mind': 60, 'seeing': 77, 'less': 55, 'version': 95}\n",
            "\n",
            "Features for the fiven small data is: \n",
            "['2017', 'absolutely', 'accounting', 'adventure', 'asses', 'barely', 'blast', 'car', 'cards', 'care', 'changing', 'chased', 'city', 'cliffhanger', 'close', 'cold', 'collapsed', 'combine', 'complaint', 'could', 'counters', 'crash', 'crashed', 'decks', 'departed', 'detriment', 'disoriented', 'easier', 'else', 'essen', 'even', 'events', 'every', 'everything', 'experience', 'figured', 'flew', 'found', 'fourth', 'fun', 'fundamentally', 'game', 'games', 'get', 'got', 'great', 'half', 'heavy', 'henchmen', 'home', 'imho', 'impossible', 'kicked', 'knocked', 'know', 'less', 'like', 'll', 'made', 'make', 'mind', 'moscow', 'much', 'nazi', 'one', 'plane', 'play', 'played', 'plays', 'power', 'purchased', 'ramping', 'read', 'really', 'rules', 'say', 'scoring', 'seeing', 'shot', 'sized', 'small', 'spiel', 'still', 'succession', 'survived', 'tarot', 'temple', 'three', 'throughout', 'time', 'times', 'tons', 'totally', 'turns', 'unbalanced', 'version', 'villains', 'whack', 'win', 'wipe', 'without', 'woke', 'worth', 'would', 'wrong']\n",
            "\n",
            "Vector Array shape for the fiven small data is: \n",
            "(3, 105)\n",
            "\n",
            "Vector Array for the fiven small data is: \n",
            "[[ 0  0  0  0  0  0  0  0  2  0  0  0  0  0  0  0  0  0  1  0  0  0  0  0\n",
            "   0  0  0  1  0  0  0  0  0  0  0  0  0  0  0  0  0  0  0  0  0  0  0  0\n",
            "   0  0  0  0  0  0  0  0  0  0  0  0  0  0  1  0  0  0  0  0  0  0  0  0\n",
            "   1  0  0  1  0  0  0  1  1  0  0  0  0  1  0  0  0  0  0  0  0  0  0  0\n",
            "   0  0  0  0  0  0  0  1  0]\n",
            " [ 1  0  0  0  0  0  0  0  0  0  0  0  0  0  0  0  0  0  0  0  0  0  0  0\n",
            "   0  0  0  0  0  1  0  0  0  0  0  0  0  0  0  0  0  0  0  0  0  0  0  0\n",
            "   0  0  0  0  0  0  0  0  0  0  0  0  0  0  0  0  0  0  0  0  0  0  1  0\n",
            "   0  0  0  0  0  0  0  0  0  1  0  0  0  0  0  0  0  0  0  0  0  0  0  0\n",
            "   0  0  0  0  0  0  0  0  0]\n",
            " [ 0  1  1  1  1  1  1  1  2  1  1  1  1  2  1  1  1  1  0  1  1  1  1  1\n",
            "   1  1  1  0  1  0  1  1  1  1  1  1  1  1  1  1  1 10  1  1  1  1  1  1\n",
            "   1  1  1  1  1  1  1  1  1  1  1  1  1  1  1  2  1  1  1  1  1  1  0  1\n",
            "   0  1  2  0  1  1  1  0  0  0  2  1  2  0  3  1  1  1  1  1  1  1  1  1\n",
            "   2  1  1  1  1  1  1  0  1]]\n",
            "\n"
          ],
          "name": "stdout"
        }
      ]
    },
    {
      "cell_type": "code",
      "metadata": {
        "id": "gGPgE3OemySG",
        "colab_type": "code",
        "outputId": "2d7cf564-e8a6-4114-ae5c-fce39d3822a8",
        "colab": {
          "base_uri": "https://localhost:8080/",
          "height": 51
        }
      },
      "source": [
        "from sklearn.feature_extraction.text import CountVectorizer\n",
        "#Vectorization\n",
        "vector_form2=CountVectorizer()\n",
        "Xtrain_tf=vector_form2.fit_transform(X_train)\n",
        "print(\"Shape after Vectorization: \")\n",
        "Xtrain_tf.shape"
      ],
      "execution_count": 125,
      "outputs": [
        {
          "output_type": "stream",
          "text": [
            "Shape after Vectorization: \n"
          ],
          "name": "stdout"
        },
        {
          "output_type": "execute_result",
          "data": {
            "text/plain": [
              "(2110204, 333822)"
            ]
          },
          "metadata": {
            "tags": []
          },
          "execution_count": 125
        }
      ]
    },
    {
      "cell_type": "markdown",
      "metadata": {
        "id": "BgiSBTbOrfsh",
        "colab_type": "text"
      },
      "source": [
        "# 4.TF-IDF"
      ]
    },
    {
      "cell_type": "code",
      "metadata": {
        "id": "T2so4d5Fftz8",
        "colab_type": "code",
        "outputId": "6ef6ede1-8b18-4b5c-a3b3-67c01ef0e2ed",
        "colab": {
          "base_uri": "https://localhost:8080/",
          "height": 1000
        }
      },
      "source": [
        "from sklearn.feature_extraction.text import TfidfTransformer\n",
        "vector_form=TfidfTransformer()\n",
        "\n",
        "vector_form.fit(vector_array)\n",
        "print(\"Frequency for all the features: \")#features frequency\n",
        "print(str(vector_form.idf_)+\"\\n\")\n",
        "frequency=vector_form.transform(vector_array)\n",
        "print(\"Weight for all the features: \")#feature weights\n",
        "print(str(frequency.toarray())+\"\\n\")"
      ],
      "execution_count": 126,
      "outputs": [
        {
          "output_type": "stream",
          "text": [
            "Frequency for all the features: \n",
            "[1.69314718 1.69314718 1.69314718 1.69314718 1.69314718 1.69314718\n",
            " 1.69314718 1.69314718 1.28768207 1.69314718 1.69314718 1.69314718\n",
            " 1.69314718 1.69314718 1.69314718 1.69314718 1.69314718 1.69314718\n",
            " 1.69314718 1.69314718 1.69314718 1.69314718 1.69314718 1.69314718\n",
            " 1.69314718 1.69314718 1.69314718 1.69314718 1.69314718 1.69314718\n",
            " 1.69314718 1.69314718 1.69314718 1.69314718 1.69314718 1.69314718\n",
            " 1.69314718 1.69314718 1.69314718 1.69314718 1.69314718 1.69314718\n",
            " 1.69314718 1.69314718 1.69314718 1.69314718 1.69314718 1.69314718\n",
            " 1.69314718 1.69314718 1.69314718 1.69314718 1.69314718 1.69314718\n",
            " 1.69314718 1.69314718 1.69314718 1.69314718 1.69314718 1.69314718\n",
            " 1.69314718 1.69314718 1.28768207 1.69314718 1.69314718 1.69314718\n",
            " 1.69314718 1.69314718 1.69314718 1.69314718 1.69314718 1.69314718\n",
            " 1.69314718 1.69314718 1.69314718 1.69314718 1.69314718 1.69314718\n",
            " 1.69314718 1.69314718 1.69314718 1.69314718 1.69314718 1.69314718\n",
            " 1.69314718 1.69314718 1.69314718 1.69314718 1.69314718 1.69314718\n",
            " 1.69314718 1.69314718 1.69314718 1.69314718 1.69314718 1.69314718\n",
            " 1.69314718 1.69314718 1.69314718 1.69314718 1.69314718 1.69314718\n",
            " 1.69314718 1.69314718 1.69314718]\n",
            "\n",
            "Weight for all the features: \n",
            "[[0.         0.         0.         0.         0.         0.\n",
            "  0.         0.         0.46088245 0.         0.         0.\n",
            "  0.         0.         0.         0.         0.         0.\n",
            "  0.30300252 0.         0.         0.         0.         0.\n",
            "  0.         0.         0.         0.30300252 0.         0.\n",
            "  0.         0.         0.         0.         0.         0.\n",
            "  0.         0.         0.         0.         0.         0.\n",
            "  0.         0.         0.         0.         0.         0.\n",
            "  0.         0.         0.         0.         0.         0.\n",
            "  0.         0.         0.         0.         0.         0.\n",
            "  0.         0.         0.23044123 0.         0.         0.\n",
            "  0.         0.         0.         0.         0.         0.\n",
            "  0.30300252 0.         0.         0.30300252 0.         0.\n",
            "  0.         0.30300252 0.30300252 0.         0.         0.\n",
            "  0.         0.30300252 0.         0.         0.         0.\n",
            "  0.         0.         0.         0.         0.         0.\n",
            "  0.         0.         0.         0.         0.         0.\n",
            "  0.         0.30300252 0.        ]\n",
            " [0.5        0.         0.         0.         0.         0.\n",
            "  0.         0.         0.         0.         0.         0.\n",
            "  0.         0.         0.         0.         0.         0.\n",
            "  0.         0.         0.         0.         0.         0.\n",
            "  0.         0.         0.         0.         0.         0.5\n",
            "  0.         0.         0.         0.         0.         0.\n",
            "  0.         0.         0.         0.         0.         0.\n",
            "  0.         0.         0.         0.         0.         0.\n",
            "  0.         0.         0.         0.         0.         0.\n",
            "  0.         0.         0.         0.         0.         0.\n",
            "  0.         0.         0.         0.         0.         0.\n",
            "  0.         0.         0.         0.         0.5        0.\n",
            "  0.         0.         0.         0.         0.         0.\n",
            "  0.         0.         0.         0.5        0.         0.\n",
            "  0.         0.         0.         0.         0.         0.\n",
            "  0.         0.         0.         0.         0.         0.\n",
            "  0.         0.         0.         0.         0.         0.\n",
            "  0.         0.         0.        ]\n",
            " [0.         0.06759041 0.06759041 0.06759041 0.06759041 0.06759041\n",
            "  0.06759041 0.06759041 0.10280849 0.06759041 0.06759041 0.06759041\n",
            "  0.06759041 0.13518081 0.06759041 0.06759041 0.06759041 0.06759041\n",
            "  0.         0.06759041 0.06759041 0.06759041 0.06759041 0.06759041\n",
            "  0.06759041 0.06759041 0.06759041 0.         0.06759041 0.\n",
            "  0.06759041 0.06759041 0.06759041 0.06759041 0.06759041 0.06759041\n",
            "  0.06759041 0.06759041 0.06759041 0.06759041 0.06759041 0.67590406\n",
            "  0.06759041 0.06759041 0.06759041 0.06759041 0.06759041 0.06759041\n",
            "  0.06759041 0.06759041 0.06759041 0.06759041 0.06759041 0.06759041\n",
            "  0.06759041 0.06759041 0.06759041 0.06759041 0.06759041 0.06759041\n",
            "  0.06759041 0.06759041 0.05140425 0.13518081 0.06759041 0.06759041\n",
            "  0.06759041 0.06759041 0.06759041 0.06759041 0.         0.06759041\n",
            "  0.         0.06759041 0.13518081 0.         0.06759041 0.06759041\n",
            "  0.06759041 0.         0.         0.         0.13518081 0.06759041\n",
            "  0.13518081 0.         0.20277122 0.06759041 0.06759041 0.06759041\n",
            "  0.06759041 0.06759041 0.06759041 0.06759041 0.06759041 0.06759041\n",
            "  0.13518081 0.06759041 0.06759041 0.06759041 0.06759041 0.06759041\n",
            "  0.06759041 0.         0.06759041]]\n",
            "\n"
          ],
          "name": "stdout"
        }
      ]
    },
    {
      "cell_type": "code",
      "metadata": {
        "id": "eAyNLhZkopE3",
        "colab_type": "code",
        "outputId": "477475c4-ce6f-48e6-c00d-ee756bd7c507",
        "colab": {
          "base_uri": "https://localhost:8080/",
          "height": 51
        }
      },
      "source": [
        "from sklearn.feature_extraction.text import TfidfTransformer\n",
        "vector_form3=TfidfTransformer()\n",
        "Xtrain_tfid=vector_form3.fit_transform(Xtrain_tf)\n",
        "print(\"Shape after TF-IDF: \")\n",
        "Xtrain_tfid.shape"
      ],
      "execution_count": 127,
      "outputs": [
        {
          "output_type": "stream",
          "text": [
            "Shape after TF-IDF: \n"
          ],
          "name": "stdout"
        },
        {
          "output_type": "execute_result",
          "data": {
            "text/plain": [
              "(2110204, 333822)"
            ]
          },
          "metadata": {
            "tags": []
          },
          "execution_count": 127
        }
      ]
    },
    {
      "cell_type": "code",
      "metadata": {
        "id": "yMHZ08gn6p5H",
        "colab_type": "code",
        "colab": {}
      },
      "source": [
        "y_train=y_train.astype(int)\n",
        "y_test=y_test.astype(int)"
      ],
      "execution_count": 0,
      "outputs": []
    },
    {
      "cell_type": "markdown",
      "metadata": {
        "id": "YkNIJRgFtX7G",
        "colab_type": "text"
      },
      "source": [
        "# 5.Build Models"
      ]
    },
    {
      "cell_type": "markdown",
      "metadata": {
        "id": "DhAoqI3MJE2h",
        "colab_type": "text"
      },
      "source": [
        "## A.MultinomialNM"
      ]
    },
    {
      "cell_type": "code",
      "metadata": {
        "id": "Wd3nFAhPtaNl",
        "colab_type": "code",
        "colab": {}
      },
      "source": [
        "from sklearn.naive_bayes import MultinomialNB\n",
        "m1 = MultinomialNB().fit(Xtrain_tfid, y_train)\n",
        "\n",
        "# Saving model to disk\n",
        "pickle.dump(m1, open('model.pkl','wb'))\n",
        "\n",
        "# Loading model to compare the results\n",
        "model = pickle.load(open('model.pkl','rb'))\n",
        "\n",
        "test_count=vector_form2.transform(X_test)\n",
        "test_tfid=vector_form3.transform(test_count)\n",
        "predict1=m1.predict(test_tfid)"
      ],
      "execution_count": 0,
      "outputs": []
    },
    {
      "cell_type": "code",
      "metadata": {
        "id": "isQi-2xg8FM8",
        "colab_type": "code",
        "outputId": "24da379e-4884-45fe-ab76-42d6ad56f414",
        "colab": {
          "base_uri": "https://localhost:8080/",
          "height": 34
        }
      },
      "source": [
        "print(predict)"
      ],
      "execution_count": 130,
      "outputs": [
        {
          "output_type": "stream",
          "text": [
            "[7 7 7 ... 7 8 8]\n"
          ],
          "name": "stdout"
        }
      ]
    },
    {
      "cell_type": "code",
      "metadata": {
        "id": "txPkUWoTvGg4",
        "colab_type": "code",
        "outputId": "5bbea12a-c9cc-46ae-f658-34e704c9181e",
        "colab": {
          "base_uri": "https://localhost:8080/",
          "height": 394
        }
      },
      "source": [
        "print(\"Accuracy score acieved for Multinomial NM: \"+str(accuracy_score(y_test,predict1)))\n",
        "print(metrics.classification_report(y_test,predict1))\n",
        "# metrics.confusion_matrix(y_test,predict)"
      ],
      "execution_count": 131,
      "outputs": [
        {
          "output_type": "stream",
          "text": [
            "Accuracy score acieved for Multinomial NM: 0.2897212028387723\n"
          ],
          "name": "stdout"
        },
        {
          "output_type": "stream",
          "text": [
            "/usr/local/lib/python3.6/dist-packages/sklearn/metrics/_classification.py:1272: UndefinedMetricWarning: Precision and F-score are ill-defined and being set to 0.0 in labels with no predicted samples. Use `zero_division` parameter to control this behavior.\n",
            "  _warn_prf(average, modifier, msg_start, len(result))\n"
          ],
          "name": "stderr"
        },
        {
          "output_type": "stream",
          "text": [
            "              precision    recall  f1-score   support\n",
            "\n",
            "           0       0.00      0.00      0.00         2\n",
            "           1       0.56      0.00      0.00      4272\n",
            "           2       0.48      0.00      0.01      8037\n",
            "           3       0.41      0.00      0.00     15131\n",
            "           4       0.26      0.00      0.00     26907\n",
            "           5       0.28      0.01      0.02     50402\n",
            "           6       0.27      0.14      0.19    102563\n",
            "           7       0.29      0.88      0.44    139137\n",
            "           8       0.29      0.14      0.19    105906\n",
            "           9       0.26      0.01      0.01     49865\n",
            "          10       0.44      0.01      0.01     25330\n",
            "\n",
            "    accuracy                           0.29    527552\n",
            "   macro avg       0.32      0.11      0.08    527552\n",
            "weighted avg       0.30      0.29      0.19    527552\n",
            "\n"
          ],
          "name": "stdout"
        }
      ]
    },
    {
      "cell_type": "code",
      "metadata": {
        "id": "k9bcLzTh-mB4",
        "colab_type": "code",
        "outputId": "36193127-040f-4d4b-da4e-0c3318709ed6",
        "colab": {
          "base_uri": "https://localhost:8080/",
          "height": 510
        }
      },
      "source": [
        "fig= plt.figure(figsize=(9,6))\n",
        "ax = fig.add_axes([1,1,1,1])\n",
        "cm = confusion_matrix(y_test, predict1)\n",
        "sns.heatmap(cm/np.sum(cm), annot=True,ax = ax,fmt='0.2%', cmap='Greens')  \n",
        "ax.set_xlabel('Predicted labels');ax.set_ylabel('True labels'); \n",
        "ax.set_title('Mulitnomial NM Confusion Matrix'); "
      ],
      "execution_count": 132,
      "outputs": [
        {
          "output_type": "display_data",
          "data": {
            "image/png": "[encoded data removed]",
            "text/plain": [
              "<Figure size 648x432 with 2 Axes>"
            ]
          },
          "metadata": {
            "tags": [],
            "needs_background": "light"
          }
        }
      ]
    },
    {
      "cell_type": "markdown",
      "metadata": {
        "id": "m_QGS3HSOEWI",
        "colab_type": "text"
      },
      "source": [
        "## B.Random Forest"
      ]
    },
    {
      "cell_type": "code",
      "metadata": {
        "id": "IVDYNnBdma7K",
        "colab_type": "code",
        "colab": {
          "base_uri": "https://localhost:8080/",
          "height": 51
        },
        "outputId": "bf6f7f5d-9049-4b02-86eb-43e16c53735d"
      },
      "source": [
        "vector_form2=CountVectorizer()\n",
        "Xtrain_tf=vector_form2.fit_transform(X_train[0:10000])\n",
        "print(\"Shape after Vectorization: \")\n",
        "Xtrain_tf.shape"
      ],
      "execution_count": 133,
      "outputs": [
        {
          "output_type": "stream",
          "text": [
            "Shape after Vectorization: \n"
          ],
          "name": "stdout"
        },
        {
          "output_type": "execute_result",
          "data": {
            "text/plain": [
              "(10000, 19560)"
            ]
          },
          "metadata": {
            "tags": []
          },
          "execution_count": 133
        }
      ]
    },
    {
      "cell_type": "code",
      "metadata": {
        "id": "FBjB_xLrmnju",
        "colab_type": "code",
        "colab": {
          "base_uri": "https://localhost:8080/",
          "height": 51
        },
        "outputId": "5898804d-c8dc-4edc-8526-c42a0030b09d"
      },
      "source": [
        "from sklearn.feature_extraction.text import TfidfTransformer\n",
        "vector_form3=TfidfTransformer()\n",
        "Xtrain_tfid=vector_form3.fit_transform(Xtrain_tf)\n",
        "print(\"Shape after TF-IDF: \")\n",
        "Xtrain_tfid.shape"
      ],
      "execution_count": 134,
      "outputs": [
        {
          "output_type": "stream",
          "text": [
            "Shape after TF-IDF: \n"
          ],
          "name": "stdout"
        },
        {
          "output_type": "execute_result",
          "data": {
            "text/plain": [
              "(10000, 19560)"
            ]
          },
          "metadata": {
            "tags": []
          },
          "execution_count": 134
        }
      ]
    },
    {
      "cell_type": "code",
      "metadata": {
        "id": "f8vIW91czjpq",
        "colab_type": "code",
        "colab": {}
      },
      "source": [
        "test_count=vector_form2.transform(X_test[10001:15000])\n",
        "test_tfid=vector_form3.transform(test_count)"
      ],
      "execution_count": 0,
      "outputs": []
    },
    {
      "cell_type": "markdown",
      "metadata": {
        "id": "__nwj5DBsEmn",
        "colab_type": "text"
      },
      "source": [
        "### i. K-fold"
      ]
    },
    {
      "cell_type": "code",
      "metadata": {
        "id": "dQF9njEebS3k",
        "colab_type": "code",
        "colab": {
          "base_uri": "https://localhost:8080/",
          "height": 34
        },
        "outputId": "e46095f3-133b-4cec-d395-b90bcf8c3c57"
      },
      "source": [
        "from sklearn.ensemble import RandomForestClassifier\n",
        "from sklearn import model_selection\n",
        "rand_model=RandomForestClassifier(max_depth=3)\n",
        "rand_model_cv=cross_val_score(rand_model,Xtrain_tfid, y_train[0:10000],cv=3)\n",
        "print(rand_model_cv.mean())"
      ],
      "execution_count": 135,
      "outputs": [
        {
          "output_type": "stream",
          "text": [
            "0.27369998547545216\n"
          ],
          "name": "stdout"
        }
      ]
    },
    {
      "cell_type": "code",
      "metadata": {
        "id": "AKo8nBOcfDLx",
        "colab_type": "code",
        "colab": {
          "base_uri": "https://localhost:8080/",
          "height": 34
        },
        "outputId": "ae345cab-9730-4541-9c94-dfb09b7e2893"
      },
      "source": [
        "rand_model_cv=cross_val_score(rand_model,Xtrain_tfid, y_train[0:10000],cv=4)\n",
        "print(rand_model_cv.mean())"
      ],
      "execution_count": 136,
      "outputs": [
        {
          "output_type": "stream",
          "text": [
            "0.2737\n"
          ],
          "name": "stdout"
        }
      ]
    },
    {
      "cell_type": "code",
      "metadata": {
        "id": "u19P-_l8fEAb",
        "colab_type": "code",
        "colab": {
          "base_uri": "https://localhost:8080/",
          "height": 34
        },
        "outputId": "c3d0cb77-f91f-404d-d330-5676236a0002"
      },
      "source": [
        "rand_model_cv=cross_val_score(rand_model,Xtrain_tfid, y_train[0:10000],cv=5)\n",
        "print(rand_model_cv.mean())"
      ],
      "execution_count": 137,
      "outputs": [
        {
          "output_type": "stream",
          "text": [
            "0.27370000000000005\n"
          ],
          "name": "stdout"
        }
      ]
    },
    {
      "cell_type": "markdown",
      "metadata": {
        "id": "wsh9ZYcSgc4V",
        "colab_type": "text"
      },
      "source": [
        "It seems cross value for 5 gives better precision compared to other. So let us create model using it."
      ]
    },
    {
      "cell_type": "code",
      "metadata": {
        "id": "P5Avrgymgb8b",
        "colab_type": "code",
        "colab": {
          "base_uri": "https://localhost:8080/",
          "height": 377
        },
        "outputId": "e95ddf88-2628-45fa-e1a2-b0f1f17f7081"
      },
      "source": [
        "m2=RandomForestClassifier(max_depth=3)\n",
        "m2.fit(Xtrain_tfid, y_train[0:10000])\n",
        "predict2=m2.predict(test_tfid)\n",
        "print(\"Accuracy score acieved for Random Forest Tree: \"+str(accuracy_score(y_test[10001:15000],predict2)))\n",
        "print(metrics.classification_report(y_test[10001:15000],predict2))"
      ],
      "execution_count": 142,
      "outputs": [
        {
          "output_type": "stream",
          "text": [
            "Accuracy score acieved for Random Forest Tree: 0.26585317063412683\n",
            "              precision    recall  f1-score   support\n",
            "\n",
            "           1       0.00      0.00      0.00        43\n",
            "           2       0.00      0.00      0.00        71\n",
            "           3       0.00      0.00      0.00       155\n",
            "           4       0.00      0.00      0.00       271\n",
            "           5       0.00      0.00      0.00       474\n",
            "           6       0.00      0.00      0.00       969\n",
            "           7       0.27      1.00      0.42      1329\n",
            "           8       0.00      0.00      0.00      1007\n",
            "           9       0.00      0.00      0.00       444\n",
            "          10       0.00      0.00      0.00       236\n",
            "\n",
            "    accuracy                           0.27      4999\n",
            "   macro avg       0.03      0.10      0.04      4999\n",
            "weighted avg       0.07      0.27      0.11      4999\n",
            "\n"
          ],
          "name": "stdout"
        },
        {
          "output_type": "stream",
          "text": [
            "/usr/local/lib/python3.6/dist-packages/sklearn/metrics/_classification.py:1272: UndefinedMetricWarning: Precision and F-score are ill-defined and being set to 0.0 in labels with no predicted samples. Use `zero_division` parameter to control this behavior.\n",
            "  _warn_prf(average, modifier, msg_start, len(result))\n"
          ],
          "name": "stderr"
        }
      ]
    },
    {
      "cell_type": "code",
      "metadata": {
        "id": "qWyScCt0smGq",
        "colab_type": "code",
        "colab": {
          "base_uri": "https://localhost:8080/",
          "height": 510
        },
        "outputId": "ed97e720-6c88-41db-fb9e-dea4d429d18c"
      },
      "source": [
        "fig= plt.figure(figsize=(9,6))\n",
        "ax = fig.add_axes([1,1,1,1])\n",
        "cm = confusion_matrix(y_test[10001:15000],predict2)\n",
        "sns.heatmap(cm/np.sum(cm), annot=True,ax = ax,fmt='0.2%', cmap='Blues')  \n",
        "ax.set_xlabel('Predicted labels');ax.set_ylabel('True labels'); \n",
        "ax.set_title('Random Forest Tree Confusion Matrix'); "
      ],
      "execution_count": 143,
      "outputs": [
        {
          "output_type": "display_data",
          "data": {
            "image/png": "[encoded data removed]",
            "text/plain": [
              "<Figure size 648x432 with 2 Axes>"
            ]
          },
          "metadata": {
            "tags": [],
            "needs_background": "light"
          }
        }
      ]
    },
    {
      "cell_type": "markdown",
      "metadata": {
        "id": "GT_Onk_is9CO",
        "colab_type": "text"
      },
      "source": [
        "## C.SVC"
      ]
    },
    {
      "cell_type": "code",
      "metadata": {
        "id": "ezPXhLtIU_A5",
        "colab_type": "code",
        "colab": {
          "base_uri": "https://localhost:8080/",
          "height": 85
        },
        "outputId": "521e2e06-9fe5-49cf-f416-e6eb88b9bbac"
      },
      "source": [
        "from sklearn.pipeline import Pipeline\n",
        "from sklearn import svm\n",
        "# pipeline = Pipeline([\n",
        "#     ('count_vectorizer', CountVectorizer(lowercase = True, stop_words = stopwords.words('english'))), \n",
        "#     ('tfidf_transformer',  TfidfTransformer()), #weighs terms by importance to help with feature selection\n",
        "#     ('classifier', svm.SVC(kernel='linear', C = 1.0)) ])\n",
        "\n",
        "# pipeline.fit(X_train[0:10000], y_train[0:10000].astype('int'))\n",
        "\n",
        "from sklearn.svm import SVC\n",
        "m3 = SVC(kernel = 'linear', random_state = 0)\n",
        "m3.fit(Xtrain_tfid, y_train[0:10000])"
      ],
      "execution_count": 144,
      "outputs": [
        {
          "output_type": "execute_result",
          "data": {
            "text/plain": [
              "SVC(C=1.0, break_ties=False, cache_size=200, class_weight=None, coef0=0.0,\n",
              "    decision_function_shape='ovr', degree=3, gamma='scale', kernel='linear',\n",
              "    max_iter=-1, probability=False, random_state=0, shrinking=True, tol=0.001,\n",
              "    verbose=False)"
            ]
          },
          "metadata": {
            "tags": []
          },
          "execution_count": 144
        }
      ]
    },
    {
      "cell_type": "code",
      "metadata": {
        "id": "QfsdALLCjw1_",
        "colab_type": "code",
        "colab": {}
      },
      "source": [
        "#predict=pipeline.predict(X_test[10001:15000])\n",
        "predict3=m3.predict(test_tfid)"
      ],
      "execution_count": 0,
      "outputs": []
    },
    {
      "cell_type": "code",
      "metadata": {
        "id": "7iBmgJmWj5zW",
        "colab_type": "code",
        "colab": {
          "base_uri": "https://localhost:8080/",
          "height": 377
        },
        "outputId": "e70fe51f-444b-4f09-d5ae-97a381a523a6"
      },
      "source": [
        "print(\"Accuracy score acieved for SVM: \"+str(accuracy_score(y_test[10001:15000],predict3)))\n",
        "print(metrics.classification_report(y_test[10001:15000],predict3))"
      ],
      "execution_count": 146,
      "outputs": [
        {
          "output_type": "stream",
          "text": [
            "Accuracy score acieved for SVM: 0.27985597119423883\n",
            "              precision    recall  f1-score   support\n",
            "\n",
            "           1       0.00      0.00      0.00        43\n",
            "           2       0.00      0.00      0.00        71\n",
            "           3       0.00      0.00      0.00       155\n",
            "           4       0.37      0.07      0.11       271\n",
            "           5       0.23      0.07      0.11       474\n",
            "           6       0.24      0.24      0.24       969\n",
            "           7       0.28      0.58      0.38      1329\n",
            "           8       0.30      0.31      0.31      1007\n",
            "           9       0.29      0.05      0.08       444\n",
            "          10       0.35      0.04      0.07       236\n",
            "\n",
            "    accuracy                           0.28      4999\n",
            "   macro avg       0.21      0.14      0.13      4999\n",
            "weighted avg       0.27      0.28      0.24      4999\n",
            "\n"
          ],
          "name": "stdout"
        },
        {
          "output_type": "stream",
          "text": [
            "/usr/local/lib/python3.6/dist-packages/sklearn/metrics/_classification.py:1272: UndefinedMetricWarning: Precision and F-score are ill-defined and being set to 0.0 in labels with no predicted samples. Use `zero_division` parameter to control this behavior.\n",
            "  _warn_prf(average, modifier, msg_start, len(result))\n"
          ],
          "name": "stderr"
        }
      ]
    },
    {
      "cell_type": "code",
      "metadata": {
        "id": "gX7yQ_fytIpn",
        "colab_type": "code",
        "colab": {
          "base_uri": "https://localhost:8080/",
          "height": 510
        },
        "outputId": "4978b357-8183-44be-c9ca-f11a22da4594"
      },
      "source": [
        "fig= plt.figure(figsize=(9,6))\n",
        "ax = fig.add_axes([1,1,1,1])\n",
        "cm = confusion_matrix(y_test[10001:15000],predict3)\n",
        "sns.heatmap(cm/np.sum(cm), annot=True,ax = ax,fmt='0.2%', cmap='Reds')  \n",
        "ax.set_xlabel('Predicted labels');ax.set_ylabel('True labels'); \n",
        "ax.set_title('SVC Confusion Matrix'); "
      ],
      "execution_count": 147,
      "outputs": [
        {
          "output_type": "display_data",
          "data": {
            "image/png": "[encoded data removed]",
            "text/plain": [
              "<Figure size 648x432 with 2 Axes>"
            ]
          },
          "metadata": {
            "tags": [],
            "needs_background": "light"
          }
        }
      ]
    },
    {
      "cell_type": "markdown",
      "metadata": {
        "id": "f8U24O9EtfxE",
        "colab_type": "text"
      },
      "source": [
        "### i.Hyper-parameter tuning"
      ]
    },
    {
      "cell_type": "code",
      "metadata": {
        "id": "mQjPChwSkRlx",
        "colab_type": "code",
        "colab": {}
      },
      "source": [
        "from sklearn.model_selection import GridSearchCV\n",
        "parameters = [{'C': [1, 10], 'kernel': ['linear']},\n",
        "              {'C': [1, 10], 'kernel': ['rbf'], 'gamma': [0.5, 0.7, 0.9]}]\n",
        "grid_search = GridSearchCV(estimator = m3,\n",
        "                           param_grid = parameters,\n",
        "                           scoring = 'accuracy',\n",
        "                           cv = 10,\n",
        "                           n_jobs = -1)\n",
        "grid_search = grid_search.fit(Xtrain_tfid, y_train[0:10000])"
      ],
      "execution_count": 0,
      "outputs": []
    },
    {
      "cell_type": "code",
      "metadata": {
        "id": "LO4wtEXO1nRA",
        "colab_type": "code",
        "colab": {}
      },
      "source": [
        "accuracy=grid_search.best_score_"
      ],
      "execution_count": 0,
      "outputs": []
    },
    {
      "cell_type": "code",
      "metadata": {
        "id": "N2Hrr3D81-75",
        "colab_type": "code",
        "colab": {
          "base_uri": "https://localhost:8080/",
          "height": 34
        },
        "outputId": "179d358d-2b02-49ad-ce0b-475dc1680d54"
      },
      "source": [
        "accuracy"
      ],
      "execution_count": 152,
      "outputs": [
        {
          "output_type": "execute_result",
          "data": {
            "text/plain": [
              "0.2954"
            ]
          },
          "metadata": {
            "tags": []
          },
          "execution_count": 152
        }
      ]
    },
    {
      "cell_type": "code",
      "metadata": {
        "id": "W1TbCr7s2Bi3",
        "colab_type": "code",
        "colab": {
          "base_uri": "https://localhost:8080/",
          "height": 34
        },
        "outputId": "bd34ac78-99b1-4c99-c794-f64f19638a23"
      },
      "source": [
        "grid_search.best_params_"
      ],
      "execution_count": 154,
      "outputs": [
        {
          "output_type": "execute_result",
          "data": {
            "text/plain": [
              "{'C': 1, 'gamma': 0.5, 'kernel': 'rbf'}"
            ]
          },
          "metadata": {
            "tags": []
          },
          "execution_count": 154
        }
      ]
    },
    {
      "cell_type": "code",
      "metadata": {
        "id": "mvd53oo4VCLs",
        "colab_type": "code",
        "colab": {
          "base_uri": "https://localhost:8080/",
          "height": 377
        },
        "outputId": "5a4a7f7b-201c-437a-eaa0-0e4bf09c6370"
      },
      "source": [
        "m4 = SVC(kernel = 'rbf', C=1,gamma=0.7)\n",
        "m4.fit(Xtrain_tfid, y_train[0:10000])\n",
        "predict=m4.predict(test_tfid)\n",
        "print(\"Accuracy score acieved for SVM after hyper paratemeter tuning: \"+str(accuracy_score(y_test[10001:15000],predict4)))\n",
        "print(metrics.classification_report(y_test[10001:15000],predict4))"
      ],
      "execution_count": 156,
      "outputs": [
        {
          "output_type": "stream",
          "text": [
            "Accuracy score acieved for SVM after hyper paratemeter tuning: 0.26585317063412683\n",
            "              precision    recall  f1-score   support\n",
            "\n",
            "           1       0.00      0.00      0.00        43\n",
            "           2       0.00      0.00      0.00        71\n",
            "           3       0.00      0.00      0.00       155\n",
            "           4       0.00      0.00      0.00       271\n",
            "           5       0.00      0.00      0.00       474\n",
            "           6       0.00      0.00      0.00       969\n",
            "           7       0.27      1.00      0.42      1329\n",
            "           8       0.00      0.00      0.00      1007\n",
            "           9       0.00      0.00      0.00       444\n",
            "          10       0.00      0.00      0.00       236\n",
            "\n",
            "    accuracy                           0.27      4999\n",
            "   macro avg       0.03      0.10      0.04      4999\n",
            "weighted avg       0.07      0.27      0.11      4999\n",
            "\n"
          ],
          "name": "stdout"
        },
        {
          "output_type": "stream",
          "text": [
            "/usr/local/lib/python3.6/dist-packages/sklearn/metrics/_classification.py:1272: UndefinedMetricWarning: Precision and F-score are ill-defined and being set to 0.0 in labels with no predicted samples. Use `zero_division` parameter to control this behavior.\n",
            "  _warn_prf(average, modifier, msg_start, len(result))\n"
          ],
          "name": "stderr"
        }
      ]
    },
    {
      "cell_type": "markdown",
      "metadata": {
        "id": "peh69HJ7tpN_",
        "colab_type": "text"
      },
      "source": [
        "# 6.Compare different models and select best model "
      ]
    },
    {
      "cell_type": "code",
      "metadata": {
        "id": "731M7_8w66_o",
        "colab_type": "code",
        "colab": {
          "base_uri": "https://localhost:8080/",
          "height": 170
        },
        "outputId": "5d9b137b-3cab-43ad-d421-58c8685e93bd"
      },
      "source": [
        "print(\"Accuracy for all the models generated so far:\")\n",
        "print(\"\\nMultinomialNM: \"+str('28.97212028387723%'))\n",
        "print(\"\\nRandom Forest Tree: \"+str('26.585317063412683%'))\n",
        "print(\"\\nSVC: \"+str('27.985597119423883%'))\n",
        "print(\"\\nSVC after hyper-parameter tuning: \"+str('26.585317063412683%'))"
      ],
      "execution_count": 158,
      "outputs": [
        {
          "output_type": "stream",
          "text": [
            "Accuracy for all the models generated so far:\n",
            "\n",
            "MultinomialNM: 28.97212028387723%\n",
            "\n",
            "Random Forest Tree: 26.585317063412683%\n",
            "\n",
            "SVC: 27.985597119423883%\n",
            "\n",
            "SVC after hyper-parameter tuning: 26.585317063412683%\n"
          ],
          "name": "stdout"
        }
      ]
    },
    {
      "cell_type": "markdown",
      "metadata": {
        "id": "PMub4n6N742V",
        "colab_type": "text"
      },
      "source": [
        "Finally the accuracy of Multinomial NM is highest among other models so we are finalizing this model."
      ]
    },
    {
      "cell_type": "markdown",
      "metadata": {
        "id": "dEXXRBsH8NVi",
        "colab_type": "text"
      },
      "source": [
        "Reference:\n",
        "\n",
        "https://www.analyticsvidhya.com/blog/2018/08/dask-big-datasets-machine_learning-python/\n",
        "</br>https://www.youtube.com/watch?v=xvqsFTUsOmc\n",
        "</br>https://www.kaggle.com/szelee/how-to-import-a-csv-file-of-55-million-rows\n",
        "</br>https://www.youtube.com/watch?v=dq73Ghk3MQg\n",
        "</br>https://medium.com/@dtuk81/confusion-matrix-visualization-fc31e3f30fea\n",
        "</br>https://www.youtube.com/watch?v=gJRhXp8Sm4Y\n",
        "</br>https://towardsdatascience.com/the-best-format-to-save-pandas-data-414dca023e0d\n",
        "</br>https://www.youtube.com/user/krishnaik06"
      ]
    },
    {
      "cell_type": "markdown",
      "metadata": {
        "id": "GMNjgqBq9QSb",
        "colab_type": "text"
      },
      "source": [
        "### Improvements made:\n",
        "\n",
        "Firstly, the main issue for this project was handling the size of dataset which is above 1GB. So gathering data has many approaches like chunks, dask, pyspark and finally comparing all the three methods picked the best sutable approach.</br></br>\n",
        "Second improvement is using the feather to access the dataset in the dataframe. Using feather helped me to access easily and quickly.</br></br>\n",
        "Moreover, I have seen lot of model generating which used pipeline directly, so made a for loop to clean the text like removing html tags, punctuation, numeric values, extra space, converting upper to lower case, removing stopwords.</br></br>\n",
        "Next used the K-fold for the Random forest tree model which calculates the average of all the folds and find optimal model.</br></br>\n",
        "Hyper Parameter tuning on the SVC model to get the optimal approach."
      ]
    },
    {
      "cell_type": "markdown",
      "metadata": {
        "id": "UlvRxRSy_eGK",
        "colab_type": "text"
      },
      "source": [
        "### Challenges faced:\n",
        "\n",
        "Challenge implementing the Random forest tree and SVC model.\n",
        "</br></br>\n",
        "Dealing with the large dataset for building the notebook.\n",
        "</br></br>\n",
        "Uploading the working app on the server. There are many solutions available online but the size of their model were less than 25 MB. I used Heroku for deploying the project but requires to upload on Git however my model was greater than 100mb due to which I had to use Git lfs plus heroku also needs lfs build pack along with token."
      ]
    },
    {
      "cell_type": "markdown",
      "metadata": {
        "id": "zfrNItesBfFO",
        "colab_type": "text"
      },
      "source": [
        ""
      ]
    }
  ]
}